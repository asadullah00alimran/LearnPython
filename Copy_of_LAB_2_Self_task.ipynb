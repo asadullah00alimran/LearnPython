{
  "nbformat": 4,
  "nbformat_minor": 0,
  "metadata": {
    "colab": {
      "name": "Copy of LAB-2_Self_task.ipynb",
      "provenance": [],
      "authorship_tag": "ABX9TyPpZ78iRLLYFJ/L9qIkR1dX",
      "include_colab_link": true
    },
    "kernelspec": {
      "name": "python3",
      "display_name": "Python 3"
    }
  },
  "cells": [
    {
      "cell_type": "markdown",
      "metadata": {
        "id": "view-in-github",
        "colab_type": "text"
      },
      "source": [
        "<a href=\"https://colab.research.google.com/github/asadullah00alimran/LearnPython/blob/main/Copy_of_LAB_2_Self_task.ipynb\" target=\"_parent\"><img src=\"https://colab.research.google.com/assets/colab-badge.svg\" alt=\"Open In Colab\"/></a>"
      ]
    },
    {
      "cell_type": "code",
      "metadata": {
        "id": "vGJCyQ_0-hyn"
      },
      "source": [
        "#print & Comment\n",
        "#print number \n",
        "print(2)\n",
        "#print String\n",
        "print(\"Hi! I am Asadullah Al Imran\")\n",
        "#for comment just type \"#\" before the line(for single line comment)\n",
        "'''\n",
        "for multiple line comment type 3 single cotation brfore the started comment \n",
        "line and also end of the comment segment\n",
        "'''\n",
        "#Concatenation\n",
        "print('Hello','World')\n",
        "#"
      ],
      "execution_count": null,
      "outputs": []
    },
    {
      "cell_type": "code",
      "metadata": {
        "id": "6LRzkD7mCGm2",
        "outputId": "bb685092-9b5c-4c36-96f3-fe797c41c29d",
        "colab": {
          "base_uri": "https://localhost:8080/",
          "height": 68
        }
      },
      "source": [
        "#Backslash,Print string inside double or single cotation\n",
        "print(\"Hey! Python programmer world,\\nare you ready for your new Competator ?\")\n",
        "print(\"Listen, I am almost coming to take away your sleep.So\\\"Be aleart !\\\"\")"
      ],
      "execution_count": null,
      "outputs": [
        {
          "output_type": "stream",
          "text": [
            "Hey! Python programmer world,\n",
            "are you ready for your new Competator ?\n",
            "Listen, I am almost coming to take away your sleep.So\"Be aleart !\"\n"
          ],
          "name": "stdout"
        }
      ]
    },
    {
      "cell_type": "code",
      "metadata": {
        "id": "GeZKQPhYOCaz",
        "outputId": "2546fbdb-8280-4238-d5dc-8d13a07a4783",
        "colab": {
          "base_uri": "https://localhost:8080/",
          "height": 68
        }
      },
      "source": [
        "#Variable\n",
        "name = \"Asadullah Al Imran\"\n",
        "age = 21\n",
        "print(name)\n",
        "print(\"Age : \",age)\n",
        "print(\"My name is \"+name +\" And Age is \",age)\n"
      ],
      "execution_count": null,
      "outputs": [
        {
          "output_type": "stream",
          "text": [
            "Asadullah Al Imran\n",
            "Age :  20\n",
            "My name is Asadullah Al Imran And Age is  20\n"
          ],
          "name": "stdout"
        }
      ]
    },
    {
      "cell_type": "code",
      "metadata": {
        "id": "0BTQABZxP4E4",
        "outputId": "f181c4c2-bd21-4156-c7a5-80848e16159a",
        "colab": {
          "base_uri": "https://localhost:8080/",
          "height": 102
        }
      },
      "source": [
        "#Operator\n",
        "a = 20\n",
        "b= 4\n",
        "\n",
        "sum = a+b\n",
        "print(sum)\n",
        "\n",
        "sub = a-b\n",
        "print(sub)\n",
        "\n",
        "mul = a*b\n",
        "print(mul)\n",
        "\n",
        "div = a/b\n",
        "print(div)\n",
        "\n",
        "rem = a%b\n",
        "print(rem)"
      ],
      "execution_count": null,
      "outputs": [
        {
          "output_type": "stream",
          "text": [
            "24\n",
            "16\n",
            "80\n",
            "5.0\n",
            "0\n"
          ],
          "name": "stdout"
        }
      ]
    },
    {
      "cell_type": "code",
      "metadata": {
        "id": "gTSYaWfBShAk",
        "outputId": "72a1d4b5-b05e-4f4e-c0bf-34e0f4b2903a",
        "colab": {
          "base_uri": "https://localhost:8080/",
          "height": 85
        }
      },
      "source": [
        "#a**b,a//b,a++b,a--b\n",
        "a = 10\n",
        "b= 3\n",
        "\n",
        "r = a**b\n",
        "print(r)\n",
        "\n",
        "r = a++b\n",
        "print(r)\n",
        "\n",
        "r = a--b\n",
        "print(r)\n",
        "\n",
        "r = a//b\n",
        "print(r)\n",
        "\n",
        "\n"
      ],
      "execution_count": null,
      "outputs": [
        {
          "output_type": "stream",
          "text": [
            "1000\n",
            "13\n",
            "13\n",
            "3\n"
          ],
          "name": "stdout"
        }
      ]
    },
    {
      "cell_type": "code",
      "metadata": {
        "id": "ahB2NjXfT0g9",
        "outputId": "77291b7e-f909-4b4c-83dc-7828e9168d86",
        "colab": {
          "base_uri": "https://localhost:8080/",
          "height": 51
        }
      },
      "source": [
        "#User Input\n",
        "a = input(\"Type something : \" )\n",
        "print(a)"
      ],
      "execution_count": null,
      "outputs": [
        {
          "output_type": "stream",
          "text": [
            "Type something : Asadullah Al Imaran\n",
            "Asadullah Al Imaran\n"
          ],
          "name": "stdout"
        }
      ]
    },
    {
      "cell_type": "code",
      "metadata": {
        "id": "8ZH4qrFDi8ko"
      },
      "source": [
        ""
      ],
      "execution_count": null,
      "outputs": []
    },
    {
      "cell_type": "code",
      "metadata": {
        "id": "CHt7TsmBVNr1",
        "outputId": "4c5a1ed3-333c-496a-d989-941374010516",
        "colab": {
          "base_uri": "https://localhost:8080/",
          "height": 136
        }
      },
      "source": [
        "#TypeCasting\n",
        "name = input(\"Enter Name : \")\n",
        "age = int(input(\"Enter Age : \"))\n",
        "gpa = float(input(\"Enter G.P.A. : \"))\n",
        "\n",
        "print(\"Inputed Information\")\n",
        "\n",
        "print(\"Name : \"+ name)\n",
        "print(\"Age : \",age)\n",
        "print(\"G.P.A. : \",gpa)\n"
      ],
      "execution_count": null,
      "outputs": [
        {
          "output_type": "stream",
          "text": [
            "Enter Name : Asadullah Al Imran\n",
            "Enter Age : 21\n",
            "Enter G.P.A. : 3.40\n",
            "Inputed Information\n",
            "Name : Asadullah Al Imran\n",
            "Age :  21\n",
            "G.P.A. :  3.4\n"
          ],
          "name": "stdout"
        }
      ]
    }
  ]
}