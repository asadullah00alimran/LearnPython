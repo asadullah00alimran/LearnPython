{
  "nbformat": 4,
  "nbformat_minor": 0,
  "metadata": {
    "colab": {
      "name": "Lab_6_part-2.ipynb",
      "provenance": [],
      "collapsed_sections": [],
      "authorship_tag": "ABX9TyMGkSBcevbPrgl85eZxTg0V",
      "include_colab_link": true
    },
    "kernelspec": {
      "name": "python3",
      "display_name": "Python 3"
    }
  },
  "cells": [
    {
      "cell_type": "markdown",
      "metadata": {
        "id": "view-in-github",
        "colab_type": "text"
      },
      "source": [
        "<a href=\"https://colab.research.google.com/github/asadullah00alimran/LearnPython/blob/main/Lab_6_part_2.ipynb\" target=\"_parent\"><img src=\"https://colab.research.google.com/assets/colab-badge.svg\" alt=\"Open In Colab\"/></a>"
      ]
    },
    {
      "cell_type": "code",
      "metadata": {
        "colab": {
          "base_uri": "https://localhost:8080/"
        },
        "id": "_sfU4zGJgnb1",
        "outputId": "32357243-e4c5-4304-cfd6-bd7d183a730a"
      },
      "source": [
        "#Practice\n",
        "\n",
        "class triangle:\n",
        "    base=\" \"\n",
        "    height=\" \"\n",
        "    area=\" \"\n",
        "\n",
        "\n",
        "    def __init__(self,base,height):\n",
        "        self.base=base\n",
        "        self.height=height\n",
        "\n",
        "    def area(self):\n",
        "        area=0.5 * self.base * self.height\n",
        "        print(\"Area=\",area)\n",
        "\n",
        "t1=triangle(8,17)\n",
        "t1.area()\n",
        "\n",
        "t2=triangle(13,21)\n",
        "t2.area()\n",
        "\n",
        "t3=triangle(28,35)\n",
        "t3.area()"
      ],
      "execution_count": null,
      "outputs": [
        {
          "output_type": "stream",
          "text": [
            "Area= 68.0\n",
            "Area= 136.5\n",
            "Area= 490.0\n"
          ],
          "name": "stdout"
        }
      ]
    },
    {
      "cell_type": "code",
      "metadata": {
        "colab": {
          "base_uri": "https://localhost:8080/"
        },
        "id": "QKFYrq16hgAQ",
        "outputId": "5b6cb007-0157-4414-95ab-3d3fe77d4f84"
      },
      "source": [
        "# Inheritance\n",
        "\n",
        "class animal:\n",
        "    color=\" \"\n",
        "    leg=\" \"\n",
        "    def __init__(self,color,leg):\n",
        "        self.color=color\n",
        "        self.leg=leg\n",
        "\n",
        "    def display(self):\n",
        "        print(f\"\\nColor:{self.color},\\nLegs:{self.leg},\")\n",
        "\n",
        "class dog(animal):\n",
        "    def tail(self):\n",
        "        print(\"Dog has a tail\")\n",
        "\n",
        "class frog(animal):\n",
        "    def tail(self):           #Overriding Tail Method\n",
        "        print(\"Frog has no tail\")\n",
        "\n",
        "A1=dog('White',4)\n",
        "A1.display()\n",
        "A1.tail()\n",
        "\n",
        "A2=frog('Green',4)\n",
        "A2.display()\n",
        "A2.tail()\n"
      ],
      "execution_count": null,
      "outputs": [
        {
          "output_type": "stream",
          "text": [
            "\n",
            "Color:White,\n",
            "Legs:4,\n",
            "Dog has a tail\n",
            "\n",
            "Color:Green,\n",
            "Legs:4,\n",
            "Frog has no tail\n"
          ],
          "name": "stdout"
        }
      ]
    },
    {
      "cell_type": "code",
      "metadata": {
        "colab": {
          "base_uri": "https://localhost:8080/"
        },
        "id": "EuvnskwVh4T0",
        "outputId": "8cca60ec-fad6-427f-da43-07ca8a06bedb"
      },
      "source": [
        "class Shape:\n",
        "    base = \" \"\n",
        "    height = \" \"\n",
        "    area = \" \"\n",
        "\n",
        "    def __init__(self,base,height):\n",
        "        self.base=base\n",
        "        self.height=height\n",
        "\n",
        "class Triangle(Shape):\n",
        "    def area(self):\n",
        "        area = 0.5 * self.base * self.height\n",
        "        print(\"Area=\", area)\n",
        "\n",
        "\n",
        "class Rectangular(Shape):\n",
        "    def area(self):\n",
        "        area = self.base * self.height\n",
        "        print(\"Area=\", area)\n",
        "\n",
        "T=Triangle(11,23)\n",
        "T.area()\n",
        "\n",
        "T=Rectangular(15,24)\n",
        "T.area()"
      ],
      "execution_count": null,
      "outputs": [
        {
          "output_type": "stream",
          "text": [
            "Area= 126.5\n",
            "Area= 360\n"
          ],
          "name": "stdout"
        }
      ]
    },
    {
      "cell_type": "code",
      "metadata": {
        "colab": {
          "base_uri": "https://localhost:8080/"
        },
        "id": "7s6oZj6di1MI",
        "outputId": "5b94f2a6-cf60-4fee-e493-c72d83b443ed"
      },
      "source": [
        "#Multi Inheritance\n",
        "class animal:\n",
        "    color=\" \"\n",
        "    leg=\" \"\n",
        "    def __init__(self,color,leg):\n",
        "        self.color=color\n",
        "        self.leg=leg\n",
        "\n",
        "    def display(self):\n",
        "        print(f\"\\nColor:{self.color},\\nLegs:{self.leg},\")\n",
        "\n",
        "class dog(animal):\n",
        "    def tail(self):\n",
        "        print(\"Dog has a tail\")\n",
        "\n",
        "class frog(dog):\n",
        "    def tail(self):           #Overriding Tail Method\n",
        "        print(\"Frog has no tail\")\n",
        "\n",
        "class animal:\n",
        "    color=\" \"\n",
        "    leg=\" \"\n",
        "    def __init__(self,color,leg):\n",
        "        self.color=color\n",
        "        self.leg=leg\n",
        "\n",
        "    def display(self):\n",
        "        print(f\"\\nColor:{self.color},\\nLegs:{self.leg},\")\n",
        "\n",
        "class dog(animal):\n",
        "    def tail(self):\n",
        "        print(\"It has a tail\")\n",
        "\n",
        "class cat(dog):\n",
        "        pass\n",
        "\n",
        "\n",
        "A1=dog('White',4)\n",
        "A1.display()\n",
        "A1.tail()\n",
        "\n",
        "A2=cat('Black',4)\n",
        "A2.display()\n",
        "A2.tail()"
      ],
      "execution_count": null,
      "outputs": [
        {
          "output_type": "stream",
          "text": [
            "\n",
            "Color:White,\n",
            "Legs:4,\n",
            "It has a tail\n",
            "\n",
            "Color:Black,\n",
            "Legs:4,\n",
            "It has a tail\n"
          ],
          "name": "stdout"
        }
      ]
    }
  ]
}