{
  "nbformat": 4,
  "nbformat_minor": 0,
  "metadata": {
    "colab": {
      "name": "PythonWithAnisSir01.ipynb",
      "provenance": [],
      "authorship_tag": "ABX9TyNkyT5BKx2jUHN0J9vqu0+3",
      "include_colab_link": true
    },
    "kernelspec": {
      "name": "python3",
      "display_name": "Python 3"
    }
  },
  "cells": [
    {
      "cell_type": "markdown",
      "metadata": {
        "id": "view-in-github",
        "colab_type": "text"
      },
      "source": [
        "<a href=\"https://colab.research.google.com/github/asadullah00alimran/LearnPython/blob/main/PythonWithAnisSir01.ipynb\" target=\"_parent\"><img src=\"https://colab.research.google.com/assets/colab-badge.svg\" alt=\"Open In Colab\"/></a>"
      ]
    },
    {
      "cell_type": "code",
      "metadata": {
        "colab": {
          "base_uri": "https://localhost:8080/"
        },
        "id": "VOMGayw-ZHeu",
        "outputId": "2f332f11-18ff-42e0-9d92-661b265af03c"
      },
      "source": [
        "print(10)\n",
        "print(10.5)\n",
        "#My Bio Data\n",
        "print(\"Asadullah Al Imran\")\n",
        "print(\"+8801765142765\")\n",
        "print(\"Age\", 21)"
      ],
      "execution_count": null,
      "outputs": [
        {
          "output_type": "stream",
          "text": [
            "10\n",
            "10.5\n",
            "Asadullah Al Imran\n",
            "+8801765142765\n",
            "Age 21\n"
          ],
          "name": "stdout"
        }
      ]
    },
    {
      "cell_type": "code",
      "metadata": {
        "colab": {
          "base_uri": "https://localhost:8080/"
        },
        "id": "g87UOZI3bec-",
        "outputId": "ffcabdbf-ec46-4a61-902a-ecd70f135596"
      },
      "source": [
        "'''\n",
        "This \n",
        "is\n",
        "a\n",
        "Multiplr\n",
        "Line \n",
        "Comment\n",
        "'''\n",
        "print(\"Asadullah Al Imran\")\n",
        "print(\"+8801765142765\")\n",
        "print(\"Age\", 21)"
      ],
      "execution_count": null,
      "outputs": [
        {
          "output_type": "stream",
          "text": [
            "Asadullah Al Imran\n",
            "+8801765142765\n",
            "Age 21\n"
          ],
          "name": "stdout"
        }
      ]
    },
    {
      "cell_type": "code",
      "metadata": {
        "colab": {
          "base_uri": "https://localhost:8080/"
        },
        "id": "HvKNtw3IcPH2",
        "outputId": "b1ae83ac-0932-4f73-c637-d056d6bbcfab"
      },
      "source": [
        "#BAckslash Character/Escape Sequence\n",
        "print(\"Asadullah Al Imran \\n+8801765142765\")\n",
        "print(\"Asadullah Al Imran\\t+8801765142765\")\n",
        "print(\"\\\"Asadullah Al Imran\\\"\")\n",
        "print('\\'Daffodil International University\\'')"
      ],
      "execution_count": null,
      "outputs": [
        {
          "output_type": "stream",
          "text": [
            "Asadullah Al Imran \n",
            "+8801765142765\n",
            "Asadullah Al Imran\t+8801765142765\n",
            "\"Asadullah Al Imran\"\n",
            "'Daffodil International University'\n"
          ],
          "name": "stdout"
        }
      ]
    },
    {
      "cell_type": "code",
      "metadata": {
        "colab": {
          "base_uri": "https://localhost:8080/"
        },
        "id": "ieNn9oT6k1xv",
        "outputId": "c424426e-12e9-43d5-bf56-e5a4152efb0e"
      },
      "source": [
        "#Variables\n",
        "#concatanation\n",
        "name = \"Imran\"\n",
        "age = 21\n",
        "gpa = 4.00\n",
        "print(\"Our New student is \"+name)\n",
        "print(\"He is from Barishal\")\n",
        "print(\"he is currently \",age ,\" years old\")\n",
        "print(\"At the age of \", age , \" he started learning Python\")\n",
        "print( name+ \" has scored\", gpa , \"in his HSC exam\")\n",
        "print(\"Asadullah\"+\" Al\"+\" Imran\")"
      ],
      "execution_count": null,
      "outputs": [
        {
          "output_type": "stream",
          "text": [
            "Our New student is Imran\n",
            "He is from Barishal\n",
            "he is currently  21  years old\n",
            "At the age of  21  he started learning Python\n",
            "Imran has scored 4.0 in his HSC exam\n",
            "Asadullah Al Imran\n"
          ],
          "name": "stdout"
        }
      ]
    },
    {
      "cell_type": "code",
      "metadata": {
        "colab": {
          "base_uri": "https://localhost:8080/"
        },
        "id": "A4MqNoBoq5X4",
        "outputId": "ad30d664-e645-456e-9f4f-50288490ad01"
      },
      "source": [
        "a = 21\n",
        "b = 2\n",
        "\n",
        "print(a + b)\n",
        "print(a - b)\n",
        "print(a * b)\n",
        "print(a / b)\n",
        "print(a % b)\n",
        "print(\"\\n\\n\")\n",
        "print(a // b)\n",
        "print(a ** b)\n",
        "print(a * a)"
      ],
      "execution_count": null,
      "outputs": [
        {
          "output_type": "stream",
          "text": [
            "23\n",
            "19\n",
            "42\n",
            "10.5\n",
            "1\n",
            "\n",
            "\n",
            "\n",
            "10\n",
            "441\n",
            "441\n"
          ],
          "name": "stdout"
        }
      ]
    }
  ]
}