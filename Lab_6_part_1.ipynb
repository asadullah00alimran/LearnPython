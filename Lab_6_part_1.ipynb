{
  "nbformat": 4,
  "nbformat_minor": 0,
  "metadata": {
    "colab": {
      "name": "Lab_6_part-1.ipynb",
      "provenance": [],
      "collapsed_sections": [],
      "authorship_tag": "ABX9TyPCBcgINgOfJ+lGzL48btHk",
      "include_colab_link": true
    },
    "kernelspec": {
      "display_name": "Python 3",
      "name": "python3"
    }
  },
  "cells": [
    {
      "cell_type": "markdown",
      "metadata": {
        "id": "view-in-github",
        "colab_type": "text"
      },
      "source": [
        "<a href=\"https://colab.research.google.com/github/asadullah00alimran/LearnPython/blob/main/Lab_6_part_1.ipynb\" target=\"_parent\"><img src=\"https://colab.research.google.com/assets/colab-badge.svg\" alt=\"Open In Colab\"/></a>"
      ]
    },
    {
      "cell_type": "code",
      "metadata": {
        "colab": {
          "base_uri": "https://localhost:8080/"
        },
        "id": "Elh1QG9CbOAC",
        "outputId": "6fa2f62d-c22c-40a1-bbf5-ebd2f6d28ff6"
      },
      "source": [
        "#Main\n",
        "\n",
        "print(\"Hello World\")\n",
        "\n",
        "username=input(\"Name: \")\n",
        "id=int (input('Id: '))\n",
        "print(f\"Hey...i am {username}!!!My id is {id}\")"
      ],
      "execution_count": 6,
      "outputs": [
        {
          "output_type": "stream",
          "text": [
            "Hello World\n",
            "Name: Asadullah Al Imran\n",
            "Id: 12981\n",
            "Hey...i am Asadullah Al Imran!!!My id is 12981\n"
          ],
          "name": "stdout"
        }
      ]
    },
    {
      "cell_type": "code",
      "metadata": {
        "colab": {
          "base_uri": "https://localhost:8080/"
        },
        "id": "sfQ3yN3yk0zI",
        "outputId": "a618b35b-a46b-4fe5-f13e-58b1b068f18e"
      },
      "source": [
        "#Class Object\n",
        "\n",
        "class Person:\n",
        "    name=\" \"\n",
        "    skin_color=\" \"\n",
        "    height=\" \"\n",
        "    qualification=\" \"\n",
        "\n",
        "\n",
        "p1=Person()\n",
        "p1.name=\"Imran\"\n",
        "p1.skin_color=\"Brown\"\n",
        "p1.height=\"5.9\"\n",
        "p1.qualification=\"B.Sc\"\n",
        "print(f\"p1 :\\nName:{p1.name},\\nSkin_color:{p1.skin_color},\\nHeight:{p1.height},\\nQualification:{p1.qualification}.\")\n",
        "\n",
        "p2=Person()\n",
        "p2.name=\"Mitul\"\n",
        "p2.skin_color=\"Bright\"\n",
        "p2.height=\"5.7\"\n",
        "p2.qualification=\"BA.\"\n",
        "print(f\"P2 :\\nName:{p2.name},\\nSkin_color:{p2.skin_color},\\nHeight:{p2.height},\\nQualification:{p2.qualification}.\")\n",
        "\n"
      ],
      "execution_count": 8,
      "outputs": [
        {
          "output_type": "stream",
          "text": [
            "p1 :\n",
            "Name:Imran,\n",
            "Skin_color:Brown,\n",
            "Height:5.9,\n",
            "Qualification:B.Sc.\n",
            "P2 :\n",
            "Name:Mitul,\n",
            "Skin_color:Bright,\n",
            "Height:5.7,\n",
            "Qualification:BA..\n"
          ],
          "name": "stdout"
        }
      ]
    },
    {
      "cell_type": "code",
      "metadata": {
        "colab": {
          "base_uri": "https://localhost:8080/"
        },
        "id": "YU48oMz4k1tU",
        "outputId": "d4d6649a-cfcb-4abc-9b36-448c27faae10"
      },
      "source": [
        "#Method\n",
        "\n",
        "class Person:\n",
        "    name=\" \"\n",
        "    skin_color=\" \"\n",
        "    height=\" \"\n",
        "    qualification=\" \"\n",
        "\n",
        "    def set_value(self,name,skin_color,height,qualification):\n",
        "        self.name=name\n",
        "        self.skin_color=skin_color\n",
        "        self.height=height\n",
        "        self.qualification=qualification\n",
        "\n",
        "    def display(self):\n",
        "        print(f\"\\nName:{self.name},\\nSkin_color:{self.skin_color},\\nHeight:{self.height},\\nQualification:{self.qualification}\")\n",
        "\n",
        "\n",
        "p1=Person()\n",
        "p1.set_value(\"Imran\",\"Brown\",5.9,\"B.sc.\")\n",
        "p1.display()\n",
        "\n",
        "\n",
        "p2=Person()\n",
        "p2.set_value(\"Mitul\",\"Bright\",5.7,\"BA.\")\n",
        "p2.display()\n",
        "\n",
        "\n",
        "p3=Person()\n",
        "p3.set_value(\"Tutul\",\"Bright\",5.11,\"BBA.\")\n",
        "p3.display()"
      ],
      "execution_count": 9,
      "outputs": [
        {
          "output_type": "stream",
          "text": [
            "\n",
            "Name:Imran,\n",
            "Skin_color:Brown,\n",
            "Height:5.9,\n",
            "Qualification:B.sc.\n",
            "\n",
            "Name:Mitul,\n",
            "Skin_color:Bright,\n",
            "Height:5.7,\n",
            "Qualification:BA.\n",
            "\n",
            "Name:Tutul,\n",
            "Skin_color:Bright,\n",
            "Height:5.11,\n",
            "Qualification:BBA.\n"
          ],
          "name": "stdout"
        }
      ]
    },
    {
      "cell_type": "code",
      "metadata": {
        "colab": {
          "base_uri": "https://localhost:8080/"
        },
        "id": "h4ESKc3wk6Oy",
        "outputId": "d89169e8-d8ee-4229-916c-4d71159e1d85"
      },
      "source": [
        "#Constructor\n",
        "\n",
        "class Person:\n",
        "    name=\" \"\n",
        "    skin_color=\" \"\n",
        "    height=\" \"\n",
        "    qualification=\" \"\n",
        "\n",
        "    def __init__(self,name,skin_color,height,qualification):\n",
        "        self.name=name\n",
        "        self.skin_color=skin_color\n",
        "        self.height=height\n",
        "        self.qualification=qualification\n",
        "\n",
        "    def display(self):\n",
        "        print(f\"\\nName:{self.name},\\nSkin_color:{self.skin_color},\\nHeight:{self.height},\\nQualification:{self.qualification}\")\n",
        "\n",
        "\n",
        "p1=Person(\"Imran\",\"Brown\",\"5.9\",\"B.sc\")\n",
        "p1.display()\n",
        "\n",
        "p2=Person(\"Mitul\",\"Bright\",5.4,\"BA.\")\n",
        "p2.display()\n",
        "\n",
        "\n",
        "p3=Person(\"Tutul\",\"Bright\",5.11,\"BBA.\")\n",
        "p3.display()"
      ],
      "execution_count": 10,
      "outputs": [
        {
          "output_type": "stream",
          "text": [
            "\n",
            "Name:Imran,\n",
            "Skin_color:Brown,\n",
            "Height:5.9,\n",
            "Qualification:B.sc\n",
            "\n",
            "Name:Mitul,\n",
            "Skin_color:Bright,\n",
            "Height:5.4,\n",
            "Qualification:BA.\n",
            "\n",
            "Name:Tutul,\n",
            "Skin_color:Bright,\n",
            "Height:5.11,\n",
            "Qualification:BBA.\n"
          ],
          "name": "stdout"
        }
      ]
    }
  ]
}