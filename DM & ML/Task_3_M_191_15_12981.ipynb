{
  "nbformat": 4,
  "nbformat_minor": 0,
  "metadata": {
    "colab": {
      "name": "Task_3_M_191-15-12981.ipynb",
      "provenance": []
    },
    "kernelspec": {
      "name": "python3",
      "display_name": "Python 3"
    },
    "language_info": {
      "name": "python"
    }
  },
  "cells": [
    {
      "cell_type": "markdown",
      "metadata": {
        "id": "gO5TEsm3Eukk"
      },
      "source": [
        "**1. Write a NumPy program to create a 8x8 matrix and fill it with a checkerboard pattern.**"
      ]
    },
    {
      "cell_type": "code",
      "metadata": {
        "id": "XxNwuQWtEZyX"
      },
      "source": [
        "import numpy as np"
      ],
      "execution_count": 13,
      "outputs": []
    },
    {
      "cell_type": "code",
      "metadata": {
        "colab": {
          "base_uri": "https://localhost:8080/"
        },
        "id": "A4Qfmh4mJp-7",
        "outputId": "a80d8d7e-becf-470d-d091-dbc98eb695c9"
      },
      "source": [
        "x = np.zeros((8,8),dtype=int)\n",
        "x[1::2,::2] = 1\n",
        "x[::2,1::2] = 1\n",
        "print(x)\n"
      ],
      "execution_count": 14,
      "outputs": [
        {
          "output_type": "stream",
          "text": [
            "[[0 1 0 1 0 1 0 1]\n",
            " [1 0 1 0 1 0 1 0]\n",
            " [0 1 0 1 0 1 0 1]\n",
            " [1 0 1 0 1 0 1 0]\n",
            " [0 1 0 1 0 1 0 1]\n",
            " [1 0 1 0 1 0 1 0]\n",
            " [0 1 0 1 0 1 0 1]\n",
            " [1 0 1 0 1 0 1 0]]\n"
          ],
          "name": "stdout"
        }
      ]
    },
    {
      "cell_type": "markdown",
      "metadata": {
        "id": "ogi5lG6dE307"
      },
      "source": [
        "**2. Write a NumPy program to find common values between two arrays**"
      ]
    },
    {
      "cell_type": "code",
      "metadata": {
        "id": "ok5sFPwzv3XK"
      },
      "source": [
        "import numpy as np"
      ],
      "execution_count": 15,
      "outputs": []
    },
    {
      "cell_type": "code",
      "metadata": {
        "id": "ZEwIBIjKE8NF",
        "colab": {
          "base_uri": "https://localhost:8080/"
        },
        "outputId": "e0ee0178-9e6d-4db4-8643-168b8a0c39d4"
      },
      "source": [
        "arr1 = np.array([90, 100, 260, 140, 670])\n",
        "print(\"Array1: \",arr1)\n",
        "arr2 = [100, 301, 410]\n",
        "print(\"Array2: \",arr2)\n",
        "print(\"Common values between two arrays:\")\n",
        "print(np.intersect1d(arr1, arr2))\n"
      ],
      "execution_count": 16,
      "outputs": [
        {
          "output_type": "stream",
          "text": [
            "Array1:  [ 90 100 260 140 670]\n",
            "Array2:  [100, 301, 410]\n",
            "Common values between two arrays:\n",
            "[100]\n"
          ],
          "name": "stdout"
        }
      ]
    },
    {
      "cell_type": "markdown",
      "metadata": {
        "id": "q51oLn5-E9Ez"
      },
      "source": [
        "**3.  Write a NumPy program to compute the histogram of a set of data.**"
      ]
    },
    {
      "cell_type": "code",
      "metadata": {
        "id": "2LGMWif8FCPh"
      },
      "source": [
        "import numpy as np    \n",
        "import matplotlib.pyplot as plt"
      ],
      "execution_count": 17,
      "outputs": []
    },
    {
      "cell_type": "code",
      "metadata": {
        "colab": {
          "base_uri": "https://localhost:8080/",
          "height": 265
        },
        "id": "KmXcRPkDwdGe",
        "outputId": "9c929c97-fc74-41fe-fd3f-aa1eb8ae4f67"
      },
      "source": [
        "plt.hist([1,2,3,4,5], bins=[0, 1, 2, 3, 4,5,6])\n",
        "plt.show()"
      ],
      "execution_count": 18,
      "outputs": [
        {
          "output_type": "display_data",
          "data": {
            "image/png": "[encoded data removed]",
            "text/plain": [
              "<Figure size 432x288 with 1 Axes>"
            ]
          },
          "metadata": {
            "tags": [],
            "needs_background": "light"
          }
        }
      ]
    },
    {
      "cell_type": "markdown",
      "metadata": {
        "id": "wdLissP9GNqO"
      },
      "source": [
        "4. Write a NumPy program to create a new array of 3*5, filled with 2"
      ]
    },
    {
      "cell_type": "code",
      "metadata": {
        "id": "jYcd2venGFwX",
        "colab": {
          "base_uri": "https://localhost:8080/"
        },
        "outputId": "0016958d-2451-4e5c-9228-1458d0f71728"
      },
      "source": [
        "import numpy as np\n",
        "\n",
        "x = np.full((3, 5), 2, dtype=np.uint)\n",
        "print(x)\n"
      ],
      "execution_count": 19,
      "outputs": [
        {
          "output_type": "stream",
          "text": [
            "[[2 2 2 2 2]\n",
            " [2 2 2 2 2]\n",
            " [2 2 2 2 2]]\n"
          ],
          "name": "stdout"
        }
      ]
    }
  ]
}