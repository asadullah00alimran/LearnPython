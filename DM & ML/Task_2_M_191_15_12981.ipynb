{
  "nbformat": 4,
  "nbformat_minor": 0,
  "metadata": {
    "colab": {
      "name": "Task-2_M_191-15-12981.ipynb",
      "provenance": [],
      "collapsed_sections": []
    },
    "kernelspec": {
      "name": "python3",
      "display_name": "Python 3"
    },
    "language_info": {
      "name": "python"
    }
  },
  "cells": [
    {
      "cell_type": "markdown",
      "metadata": {
        "id": "9EEJfLrR12tQ"
      },
      "source": [
        "# **Write a Python program to reverse a string and a function that takes a list and returns a new list with unique elements of the first list.**"
      ]
    },
    {
      "cell_type": "code",
      "metadata": {
        "colab": {
          "base_uri": "https://localhost:8080/"
        },
        "id": "0Tl2Imi12Yp6",
        "outputId": "ff72bcdb-c64c-49ee-e3ee-46ea74283c5e"
      },
      "source": [
        "string = \"Asadullah Al Imran\"\n",
        "def my_function():\n",
        "  word = string.split()\n",
        "  rev_str = []\n",
        "  for i in word:\n",
        "    rev_str.append(i[::-1])\n",
        "  print(rev_str)\n",
        "\n",
        "my_function()\n",
        "\n",
        "def unique_list(l):\n",
        "  x = []\n",
        "  for a in l:\n",
        "    if a not in x:\n",
        "      x.append(a)\n",
        "  return x\n",
        "\n",
        "print(unique_list([1,'halludasA','CSE','narmI',5])) \n"
      ],
      "execution_count": 56,
      "outputs": [
        {
          "output_type": "stream",
          "text": [
            "['halludasA', 'lA', 'narmI']\n",
            "[1, 'halludasA', 'CSE', 'narmI', 5]\n"
          ],
          "name": "stdout"
        }
      ]
    },
    {
      "cell_type": "markdown",
      "metadata": {
        "id": "yz_Cn2NR1sDZ"
      },
      "source": [
        "# **Write a Python program to detect the number of local variables declared in a function that takes random input.**"
      ]
    },
    {
      "cell_type": "code",
      "metadata": {
        "colab": {
          "base_uri": "https://localhost:8080/"
        },
        "id": "qmk3crxS2ZWL",
        "outputId": "ab968102-3a79-4294-bf2e-cdb8a4b02c95"
      },
      "source": [
        "def dtct_var():\n",
        "    x = int(input())\n",
        "    y = int(input())\n",
        "    str1 = input()    \n",
        "\n",
        "dtct_var()\n",
        "print(\"No. of variable In the function is \",dtct_var.__code__.co_nlocals)\n"
      ],
      "execution_count": 36,
      "outputs": [
        {
          "output_type": "stream",
          "text": [
            "12\n",
            "21\n",
            "Asadullah Al Imran\n",
            "No. of variable In the function is  3\n"
          ],
          "name": "stdout"
        }
      ]
    },
    {
      "cell_type": "markdown",
      "metadata": {
        "id": "HiOWhXzm17dO"
      },
      "source": [
        "# **Write a Python program to crate two empty classes, Student and Marks. Now create some instances and check whether they are instances of the said classes or not. Also, check whether the said classes are subclasses of the built-in object class or not.**"
      ]
    },
    {
      "cell_type": "code",
      "metadata": {
        "colab": {
          "base_uri": "https://localhost:8080/"
        },
        "id": "ICHfa7dd2aJm",
        "outputId": "91325691-b487-4145-e52c-a505f8cbc72f"
      },
      "source": [
        "class Student:\n",
        "    pass \n",
        "\n",
        "class Marks:\n",
        "    pass \n",
        "\n",
        "student1 = Student()\n",
        "\n",
        "marks1 = Marks()\n",
        "\n",
        "print(\"1.\",isinstance(student1, Student))\n",
        "\n",
        "print(\"2.\",isinstance(marks1, Student))\n",
        "\n",
        "print(\"3.\",isinstance(marks1, Marks)) \n",
        "\n",
        "print(\"4.\",isinstance(student1, Marks))\n",
        "\n",
        "print(\"5.\",issubclass(Student, object))\n",
        "\n",
        "print(\"6.\",issubclass(Marks, object)) \n"
      ],
      "execution_count": 26,
      "outputs": [
        {
          "output_type": "stream",
          "text": [
            "1. True\n",
            "2. False\n",
            "3. True\n",
            "4. False\n",
            "5. True\n",
            "6. True\n"
          ],
          "name": "stdout"
        }
      ]
    },
    {
      "cell_type": "markdown",
      "metadata": {
        "id": "Jw0BiDld2a59"
      },
      "source": [
        "# **Function**"
      ]
    },
    {
      "cell_type": "code",
      "metadata": {
        "colab": {
          "base_uri": "https://localhost:8080/"
        },
        "id": "yH1oPQauBlk1",
        "outputId": "0848f2cb-cb2d-4c66-b26b-842917410f65"
      },
      "source": [
        "# Built-in Function\n",
        "a = int(input(\"Enter 1st number : \"))\n",
        "b = int(input(\"Enter 2nd number : \"))\n",
        "\n",
        "c = max(a,b) #Here max() is a built-in function\n",
        "print(c)"
      ],
      "execution_count": 4,
      "outputs": [
        {
          "output_type": "stream",
          "text": [
            "Enter 1st number : 20\n",
            "Enter 2nd number : 21\n",
            "21\n"
          ],
          "name": "stdout"
        }
      ]
    },
    {
      "cell_type": "code",
      "metadata": {
        "colab": {
          "base_uri": "https://localhost:8080/"
        },
        "id": "cmHf27KLEPWZ",
        "outputId": "eb4e9e72-4218-4155-d057-40a3330a3e21"
      },
      "source": [
        "#User define function\n",
        "\n",
        "def bigger():\n",
        "  a = int(input(\"Enter 1st number : \"))\n",
        "  b = int(input(\"Enter 2nd number : \"))\n",
        "  if a<b:\n",
        "    print(b,\" is bigger than \",a)\n",
        "  elif a == b:\n",
        "    print(a,\" is equal to \",b)\n",
        "  else:\n",
        "    print(a,\"is bigger than \",b)\n",
        "\n",
        "bigger()"
      ],
      "execution_count": 1,
      "outputs": [
        {
          "output_type": "stream",
          "text": [
            "Enter 1st number : 3\n",
            "Enter 2nd number : 4\n",
            "4  is bigger than  3\n"
          ],
          "name": "stdout"
        }
      ]
    },
    {
      "cell_type": "code",
      "metadata": {
        "colab": {
          "base_uri": "https://localhost:8080/"
        },
        "id": "jGihPgNIFmGO",
        "outputId": "58b57bc8-8209-4cde-bd1d-eea4932e5c56"
      },
      "source": [
        "#Parameter based Function\n",
        "\n",
        "def bigger(a,b):\n",
        "  if a<b:\n",
        "    print(b,\" is bigger than \",a)\n",
        "  elif a == b:\n",
        "    print(a,\" is equal to \",b)\n",
        "  else:\n",
        "    print(a,\"is bigger than \",b)\n",
        "\n",
        "bigger(45,32)"
      ],
      "execution_count": 2,
      "outputs": [
        {
          "output_type": "stream",
          "text": [
            "45 is bigger than  32\n"
          ],
          "name": "stdout"
        }
      ]
    },
    {
      "cell_type": "code",
      "metadata": {
        "colab": {
          "base_uri": "https://localhost:8080/"
        },
        "id": "WiSg26vwfarq",
        "outputId": "043334d4-d5fa-4e29-d67e-85b88f608f67"
      },
      "source": [
        "#function with default parameter value\n",
        "def check(a='python'):\n",
        "    a = a.lower()\n",
        "    if a=='python':\n",
        "        print(\"Matched\")\n",
        "    else:\n",
        "        print(\"Do not matched\")\n",
        "\n",
        "check()     #without parameter\n",
        "check('Python')   #with parameter"
      ],
      "execution_count": 6,
      "outputs": [
        {
          "output_type": "stream",
          "text": [
            "Matched\n",
            "Matched\n"
          ],
          "name": "stdout"
        }
      ]
    },
    {
      "cell_type": "code",
      "metadata": {
        "colab": {
          "base_uri": "https://localhost:8080/",
          "height": 218
        },
        "id": "4P1GuCCqioZ7",
        "outputId": "3fcc231f-34ef-4c91-861b-50ae6964a32a"
      },
      "source": [
        "#Local diclaration of variable\n",
        "\n",
        "def country():\n",
        "  name = 'Bangladesh' #local variable\n",
        "  print(name)\n",
        "\n",
        "country()\n",
        "print(name)"
      ],
      "execution_count": 11,
      "outputs": [
        {
          "output_type": "stream",
          "text": [
            "Bangladesh\n"
          ],
          "name": "stdout"
        },
        {
          "output_type": "error",
          "ename": "NameError",
          "evalue": "ignored",
          "traceback": [
            "\u001b[0;31m---------------------------------------------------------------------------\u001b[0m",
            "\u001b[0;31mNameError\u001b[0m                                 Traceback (most recent call last)",
            "\u001b[0;32m<ipython-input-11-5dad1d7c6b7e>\u001b[0m in \u001b[0;36m<module>\u001b[0;34m()\u001b[0m\n\u001b[1;32m      6\u001b[0m \u001b[0;34m\u001b[0m\u001b[0m\n\u001b[1;32m      7\u001b[0m \u001b[0mcountry\u001b[0m\u001b[0;34m(\u001b[0m\u001b[0;34m)\u001b[0m\u001b[0;34m\u001b[0m\u001b[0;34m\u001b[0m\u001b[0m\n\u001b[0;32m----> 8\u001b[0;31m \u001b[0mprint\u001b[0m\u001b[0;34m(\u001b[0m\u001b[0mname\u001b[0m\u001b[0;34m)\u001b[0m\u001b[0;34m\u001b[0m\u001b[0;34m\u001b[0m\u001b[0m\n\u001b[0m",
            "\u001b[0;31mNameError\u001b[0m: name 'name' is not defined"
          ]
        }
      ]
    },
    {
      "cell_type": "code",
      "metadata": {
        "colab": {
          "base_uri": "https://localhost:8080/",
          "height": 253
        },
        "id": "7MHURAyajkV7",
        "outputId": "c768f645-b08c-46ec-bd1e-1828ccc50c3c"
      },
      "source": [
        "#Local diclaration of variable\n",
        "\n",
        "name = 'Bangladesh' #Global variable\n",
        "\n",
        "def country():\n",
        "  print(name)\n",
        "  date_of_birth = '26 March 1971'\n",
        "  print(date_of_birth)\n",
        "\n",
        "country()\n",
        "print(name)\n",
        "print(date_of_birth)"
      ],
      "execution_count": 16,
      "outputs": [
        {
          "output_type": "stream",
          "text": [
            "Bangladesh\n",
            "26 March 1971\n",
            "Bangladesh\n"
          ],
          "name": "stdout"
        },
        {
          "output_type": "error",
          "ename": "NameError",
          "evalue": "ignored",
          "traceback": [
            "\u001b[0;31m---------------------------------------------------------------------------\u001b[0m",
            "\u001b[0;31mNameError\u001b[0m                                 Traceback (most recent call last)",
            "\u001b[0;32m<ipython-input-16-924f06773bb9>\u001b[0m in \u001b[0;36m<module>\u001b[0;34m()\u001b[0m\n\u001b[1;32m     10\u001b[0m \u001b[0mcountry\u001b[0m\u001b[0;34m(\u001b[0m\u001b[0;34m)\u001b[0m\u001b[0;34m\u001b[0m\u001b[0;34m\u001b[0m\u001b[0m\n\u001b[1;32m     11\u001b[0m \u001b[0mprint\u001b[0m\u001b[0;34m(\u001b[0m\u001b[0mname\u001b[0m\u001b[0;34m)\u001b[0m\u001b[0;34m\u001b[0m\u001b[0;34m\u001b[0m\u001b[0m\n\u001b[0;32m---> 12\u001b[0;31m \u001b[0mprint\u001b[0m\u001b[0;34m(\u001b[0m\u001b[0mdate_of_birth\u001b[0m\u001b[0;34m)\u001b[0m\u001b[0;34m\u001b[0m\u001b[0;34m\u001b[0m\u001b[0m\n\u001b[0m",
            "\u001b[0;31mNameError\u001b[0m: name 'date_of_birth' is not defined"
          ]
        }
      ]
    },
    {
      "cell_type": "code",
      "metadata": {
        "id": "c7D4NQxpkk19"
      },
      "source": [
        "#python standard library\n",
        "#csv module\n",
        "\n",
        "import csv\n",
        "\n",
        "with open('test.csv', newline='') as csvfile:\n",
        "    tmp = csv.reader(csvfile, delimiter=' ', quotechar='|')\n",
        "    for row in tmp:\n",
        "        print(', '.join(row))"
      ],
      "execution_count": 17,
      "outputs": []
    },
    {
      "cell_type": "code",
      "metadata": {
        "colab": {
          "base_uri": "https://localhost:8080/"
        },
        "id": "ewDZ87bSR3nQ",
        "outputId": "7ef96d50-e942-41e4-dc81-8b5cee53ecf9"
      },
      "source": [
        "#python standard library\n",
        "#math module\n",
        "\n",
        "import math\n",
        "\n",
        "print(math.pi)          #value of pi\n",
        "\n",
        "x=9.2\n",
        "print(math.ceil(x))     #round to the smallest integer not less than x\n",
        "print(math.floor(x))    #rount to the largest integer not greater than x\n",
        "\n",
        "print(math.sin(78))     #trigonometric sine of x (x in radians)\n",
        "\n",
        "print(math.pow(2,3))    #2 to the power 3\n",
        "\n",
        "print(math.sqrt(16))    #square root of 16"
      ],
      "execution_count": 43,
      "outputs": [
        {
          "output_type": "stream",
          "text": [
            "3.141592653589793\n",
            "10\n",
            "9\n",
            "0.5139784559875352\n",
            "8.0\n",
            "4.0\n"
          ],
          "name": "stdout"
        }
      ]
    },
    {
      "cell_type": "markdown",
      "metadata": {
        "id": "k7IAXhOYSQrt"
      },
      "source": [
        "# **Object and Class**"
      ]
    },
    {
      "cell_type": "code",
      "metadata": {
        "id": "5_e13dzESEt5"
      },
      "source": [
        "class Cat:\n",
        "    def __init__(self, name, age):\n",
        "        self.name = name\n",
        "        self.age = age\n",
        "\n",
        "    def info(self):\n",
        "        print(f\"I am a cat. My name is {self.name}. I am {self.age} years old.\")\n",
        "\n",
        "    def make_sound(self):\n",
        "        print(\"Meow\")"
      ],
      "execution_count": 44,
      "outputs": []
    },
    {
      "cell_type": "code",
      "metadata": {
        "id": "DnWdnV8cSWxw"
      },
      "source": [
        "class Mouse:\n",
        "    def __init__(self, name, age):\n",
        "        self.name = name\n",
        "        self.age = age\n",
        "\n",
        "    def info(self):\n",
        "        print(f\"I am a Mouse. My name is {self.name}. I am {self.age} years old.\")\n",
        "\n",
        "    def make_sound(self):\n",
        "        print(\"Bark\")"
      ],
      "execution_count": 45,
      "outputs": []
    },
    {
      "cell_type": "code",
      "metadata": {
        "id": "3wXSRFHUSXch"
      },
      "source": [
        "#create object\n",
        "cat1 = Cat(\"tom\", 2.5)\n",
        "mouse1 = Mouse(\"jerry\", 4)"
      ],
      "execution_count": 46,
      "outputs": []
    },
    {
      "cell_type": "code",
      "metadata": {
        "colab": {
          "base_uri": "https://localhost:8080/"
        },
        "id": "IbU38X8SSXl9",
        "outputId": "d21844d4-107f-4c7a-ff10-d2fac9bd99ec"
      },
      "source": [
        "\n",
        "for animal in (cat1, mouse1):\n",
        "    animal.make_sound()\n",
        "    animal.info()\n",
        "    animal.make_sound()"
      ],
      "execution_count": 47,
      "outputs": [
        {
          "output_type": "stream",
          "text": [
            "Meow\n",
            "I am a cat. My name is tom. I am 2.5 years old.\n",
            "Meow\n",
            "Bark\n",
            "I am a Mouse. My name is jerry. I am 4 years old.\n",
            "Bark\n"
          ],
          "name": "stdout"
        }
      ]
    },
    {
      "cell_type": "code",
      "metadata": {
        "id": "UmPNexiwSXsV"
      },
      "source": [
        "#error and exception handling \n",
        "\n",
        "def add(n1, n2):\n",
        "  print(n1+n2)"
      ],
      "execution_count": 48,
      "outputs": []
    },
    {
      "cell_type": "code",
      "metadata": {
        "colab": {
          "base_uri": "https://localhost:8080/"
        },
        "id": "Kvftk-0-SXyG",
        "outputId": "1be9f02b-a884-4562-92c9-4ad92db57926"
      },
      "source": [
        "add(10,20)"
      ],
      "execution_count": 49,
      "outputs": [
        {
          "output_type": "stream",
          "text": [
            "30\n"
          ],
          "name": "stdout"
        }
      ]
    },
    {
      "cell_type": "code",
      "metadata": {
        "id": "P8IKJB2sSX6s"
      },
      "source": [
        "number1=10\n",
        "\n",
        "number2=input(\"please provide a number: \")\n",
        "\n",
        "#give an error and after that nothing is executed\n",
        "add(number1,number2)\n",
        "print(\"add done!\")"
      ],
      "execution_count": null,
      "outputs": []
    },
    {
      "cell_type": "code",
      "metadata": {
        "id": "fIDlzFgrSlK3"
      },
      "source": [
        "#exception handling\n",
        "\n",
        "try:\n",
        "  #want to attempt this code \n",
        "  #may have an error\n",
        "  result = 10+'10'\n",
        "except:\n",
        "  print(f'Hey! its looks like you are not adding correctly!')"
      ],
      "execution_count": null,
      "outputs": []
    },
    {
      "cell_type": "code",
      "metadata": {
        "id": "9Ba3MOVpSlPt"
      },
      "source": [
        "#exception handling\n",
        "\n",
        "try:\n",
        "  #want to attempt this code \n",
        "  result = 10+10\n",
        "except:\n",
        "  print(f'Hey! its looks like you are not adding correctly!')\n",
        "else:\n",
        "  print(f'add went well')\n",
        "  print(f'sum is: {result}')"
      ],
      "execution_count": null,
      "outputs": []
    },
    {
      "cell_type": "code",
      "metadata": {
        "id": "O_ahkH8oSlTH"
      },
      "source": [
        "#create base calss \n",
        "class Ball():\n",
        "  def __init__(self):\n",
        "    print(f'Ball created!')\n",
        "  \n",
        "  def who_am_i(self):\n",
        "    print(f'i am ball')"
      ],
      "execution_count": null,
      "outputs": []
    },
    {
      "cell_type": "code",
      "metadata": {
        "id": "yrndPuMFSl5H"
      },
      "source": [
        "#create a Child(football) class\n",
        "\n",
        "class Football(Ball):\n",
        "  def __init__(self):\n",
        "    #create instances of Ball\n",
        "    Ball.__init__(self)\n",
        "    print(f'football created!')"
      ],
      "execution_count": null,
      "outputs": []
    },
    {
      "cell_type": "code",
      "metadata": {
        "id": "41mTCgM8Sl7-"
      },
      "source": [
        "#create object\n",
        "myFootball = Football()"
      ],
      "execution_count": null,
      "outputs": []
    },
    {
      "cell_type": "code",
      "metadata": {
        "id": "gpace-xhSl_f"
      },
      "source": [
        "#call base method\n",
        "myFootball.who_am_i()"
      ],
      "execution_count": null,
      "outputs": []
    },
    {
      "cell_type": "code",
      "metadata": {
        "id": "Z6vTzKd7TBGO"
      },
      "source": [
        "#Use the super() Function\n",
        "class Football(Ball):\n",
        "  def __init__(self):\n",
        "    #create instances of Ball\n",
        "    super().__init__(self)\n",
        "    print(f'football created!')"
      ],
      "execution_count": null,
      "outputs": []
    },
    {
      "cell_type": "code",
      "metadata": {
        "id": "CJIGBA-QTBMS"
      },
      "source": [
        "#create object\n",
        "try:\n",
        "    myFootball = Football()\n",
        "except:\n",
        "    print(\"Error\")"
      ],
      "execution_count": null,
      "outputs": []
    },
    {
      "cell_type": "code",
      "metadata": {
        "id": "04EU2KTQTBQe"
      },
      "source": [
        "#create base calss \n",
        "class Ball():\n",
        "  def __init__(self):\n",
        "    print(f'Ball created!')\n",
        "  \n",
        "  def who_am_i(self):\n",
        "    print(f'i am ball')\n",
        "\n",
        "#create a Child(football) class\n",
        "\n",
        "class Football(Ball):\n",
        "  def __init__(self):\n",
        "    #create instances of Ball\n",
        "    Ball.__init__(self)\n",
        "    print(f'football created!')\n",
        "\n",
        "\n",
        "#create object\n",
        "myFootball = Football()\n",
        "\n",
        "#call base method\n",
        "myFootball.who_am_i()\n",
        "\n",
        "#Use the super() Function\n",
        "class Football(Ball):\n",
        "  def __init__(self):\n",
        "    #create instances of Ball\n",
        "    try:\n",
        "        super().__init__(self)\n",
        "        print(f'football created!')\n",
        "    except:\n",
        "        print(\"Error\")\n",
        "\n",
        "\n",
        "myFootball = Football()\n",
        "\n",
        "#overriding\n",
        "class Football(Ball):\n",
        "  def __init__(self):\n",
        "    #create instances of Ball\n",
        "    Ball.__init__(self)\n",
        "    print(f'football created!')\n",
        "  #overide base class method\n",
        "  def who_am_i(self):\n",
        "    print(f'i am football!')\n",
        "\n",
        "\n",
        "#create object\n",
        "myFootball = Football()\n",
        "#call overide method\n",
        "myFootball.who_am_i()\n"
      ],
      "execution_count": null,
      "outputs": []
    },
    {
      "cell_type": "code",
      "metadata": {
        "id": "sV9WzW68TPRy"
      },
      "source": [
        "#overriding\n",
        "class Football(Ball):\n",
        "  def __init__(self):\n",
        "    #create instances of Ball\n",
        "    Ball.__init__(self)\n",
        "    print(f'football created!')\n",
        "  #overide base class method\n",
        "  def who_am_i(self):\n",
        "    print(f'i am football!')"
      ],
      "execution_count": null,
      "outputs": []
    },
    {
      "cell_type": "code",
      "metadata": {
        "id": "sZ7RkHx4TPVa"
      },
      "source": [
        "#create object\n",
        "myFootball = Football()\n",
        "#call overide method\n",
        "myFootball.who_am_i()"
      ],
      "execution_count": null,
      "outputs": []
    },
    {
      "cell_type": "code",
      "metadata": {
        "id": "feefRXDUTTLj"
      },
      "source": [
        "#add new method \n",
        "#overriding\n",
        "class Football(Ball):\n",
        "  def __init__(self):\n",
        "    #create instances of Ball\n",
        "    Ball.__init__(self)\n",
        "    print(f'football created!')\n",
        "  #overide base class method\n",
        "  def who_am_i(self):\n",
        "    print(f'i am football!')\n",
        "  #new method\n",
        "  def play(self):\n",
        "    print(f'hey! i am ready for play!')"
      ],
      "execution_count": null,
      "outputs": []
    },
    {
      "cell_type": "code",
      "metadata": {
        "id": "VHCyxUx3TTSG"
      },
      "source": [
        "#create object\n",
        "myFootball = Football()\n",
        "#call new method\n",
        "myFootball.play()"
      ],
      "execution_count": null,
      "outputs": []
    },
    {
      "cell_type": "code",
      "metadata": {
        "id": "7kPNvRx_TeOa"
      },
      "source": [
        "class Class1:\n",
        "  def m(self):\n",
        "    print(\"In class1\")\n",
        "class Class2:\n",
        "  def m(self):\n",
        "    print(\"In class2\")\n",
        "class All(Class1, Class2):\n",
        "  def m(self):\n",
        "    print(\"in all class\")\n",
        "    Class1.m(self)\n",
        "    Class2.m(self)\n",
        "\n",
        "obj = All()\n",
        "obj.m()\n",
        "\n"
      ],
      "execution_count": null,
      "outputs": []
    },
    {
      "cell_type": "code",
      "metadata": {
        "id": "wKVBYoPdThpM"
      },
      "source": [
        "class Trianle:\n",
        "  def calculate():\n",
        "    pass\n",
        "\n",
        "class square:\n",
        "  def calculate():\n",
        "    pass\n",
        "\n",
        "class Area(Triangle, square):\n",
        "\n",
        "2nd part\n",
        "\n",
        "class Area:\n",
        "  def calculation():\n",
        "    pass\n",
        "\n",
        "class Trianle(Area):\n",
        "  def calculate():\n",
        "    pass\n",
        "\n",
        "class square(Area):\n",
        "  def calculate():\n",
        "    pass\n",
        "  "
      ],
      "execution_count": null,
      "outputs": []
    },
    {
      "cell_type": "code",
      "metadata": {
        "id": "9ydGgqM6TiAR"
      },
      "source": [
        "obj = brand()"
      ],
      "execution_count": null,
      "outputs": []
    },
    {
      "cell_type": "code",
      "metadata": {
        "id": "C-AdBA6yTph9"
      },
      "source": [
        "class Area():\n",
        "    def __init__(self,a):\n",
        "        self.a=a\n",
        "    def calculate(self):\n",
        "       print(\"base area class\")\n",
        "\n",
        "class Triangle(Area):\n",
        "    def calculate(self):\n",
        "  \n",
        "      print(\"Area of triangle\",self.a)\n",
        "\n",
        "\n",
        "class Square(Area):\n",
        "    def calculate(self):\n",
        "      print(\"Area of Square\",self.a)\n",
        "\n",
        "s = Square(3)\n",
        "s.calculate()\n",
        "t = Triangle(4)\n",
        "t.calculate()"
      ],
      "execution_count": null,
      "outputs": []
    },
    {
      "cell_type": "code",
      "metadata": {
        "id": "KgnaJVayTptZ"
      },
      "source": [
        "class Triangle:\n",
        "    def calculate(b,h):\n",
        "        print(\"Area of triangle\",(b*h)/2)\n",
        "\n",
        "class Square:\n",
        "    def calculate(a):\n",
        "        print(\"Area of Square\",a*a)\n",
        "\n",
        "class Area(Triangle,Square):\n",
        "  \n",
        "\n",
        "\n",
        "    \n",
        "\n",
        "obj = Area()"
      ],
      "execution_count": null,
      "outputs": []
    }
  ]
}