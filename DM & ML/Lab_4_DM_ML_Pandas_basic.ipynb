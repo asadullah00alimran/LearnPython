{
  "nbformat": 4,
  "nbformat_minor": 0,
  "metadata": {
    "colab": {
      "name": "Lab_4_DM_ML_Pandas_basic.ipynb",
      "provenance": [],
      "collapsed_sections": []
    },
    "kernelspec": {
      "name": "python3",
      "display_name": "Python 3"
    },
    "language_info": {
      "name": "python"
    }
  },
  "cells": [
    {
      "cell_type": "code",
      "metadata": {
        "colab": {
          "base_uri": "https://localhost:8080/"
        },
        "id": "84LoJyu7wTaQ",
        "outputId": "73d63fb5-a15a-41a8-f80b-16ba4ea4cb8b"
      },
      "source": [
        "from google.colab import drive\n",
        "drive.mount('/content/drive')"
      ],
      "execution_count": null,
      "outputs": [
        {
          "output_type": "stream",
          "text": [
            "Drive already mounted at /content/drive; to attempt to forcibly remount, call drive.mount(\"/content/drive\", force_remount=True).\n"
          ],
          "name": "stdout"
        }
      ]
    },
    {
      "cell_type": "code",
      "metadata": {
        "id": "T40yVCFOyjHR"
      },
      "source": [
        "import pandas as pd\n",
        "df = pd.read_csv('/content/drive/MyDrive/Course/8th Semester/Data Mining and Machine Learning/iris.csv')"
      ],
      "execution_count": null,
      "outputs": []
    },
    {
      "cell_type": "code",
      "metadata": {
        "colab": {
          "base_uri": "https://localhost:8080/"
        },
        "id": "WQf2j8c3zGLB",
        "outputId": "af3d4292-34db-4e53-a0b0-2a4f333ca45f"
      },
      "source": [
        "print(df)"
      ],
      "execution_count": null,
      "outputs": [
        {
          "output_type": "stream",
          "text": [
            "     sepal_length  sepal_width  petal_length  petal_width    species\n",
            "0             5.1          3.5           1.4          0.2     setosa\n",
            "1             4.9          3.0           1.4          0.2     setosa\n",
            "2             4.7          3.2           1.3          0.2     setosa\n",
            "3             4.6          3.1           1.5          0.2     setosa\n",
            "4             5.0          3.6           1.4          0.2     setosa\n",
            "..            ...          ...           ...          ...        ...\n",
            "145           6.7          3.0           5.2          2.3  virginica\n",
            "146           6.3          2.5           5.0          1.9  virginica\n",
            "147           6.5          3.0           5.2          2.0  virginica\n",
            "148           6.2          3.4           5.4          2.3  virginica\n",
            "149           5.9          3.0           5.1          1.8  virginica\n",
            "\n",
            "[150 rows x 5 columns]\n"
          ],
          "name": "stdout"
        }
      ]
    },
    {
      "cell_type": "code",
      "metadata": {
        "colab": {
          "base_uri": "https://localhost:8080/",
          "height": 300
        },
        "id": "p9UEUo6CzV_Y",
        "outputId": "1533c72d-201b-41d6-e097-16cb495523e8"
      },
      "source": [
        "df.head(8)"
      ],
      "execution_count": null,
      "outputs": [
        {
          "output_type": "execute_result",
          "data": {
            "text/html": [
              "<div>\n",
              "<style scoped>\n",
              "    .dataframe tbody tr th:only-of-type {\n",
              "        vertical-align: middle;\n",
              "    }\n",
              "\n",
              "    .dataframe tbody tr th {\n",
              "        vertical-align: top;\n",
              "    }\n",
              "\n",
              "    .dataframe thead th {\n",
              "        text-align: right;\n",
              "    }\n",
              "</style>\n",
              "<table border=\"1\" class=\"dataframe\">\n",
              "  <thead>\n",
              "    <tr style=\"text-align: right;\">\n",
              "      <th></th>\n",
              "      <th>sepal_length</th>\n",
              "      <th>sepal_width</th>\n",
              "      <th>petal_length</th>\n",
              "      <th>petal_width</th>\n",
              "      <th>species</th>\n",
              "    </tr>\n",
              "  </thead>\n",
              "  <tbody>\n",
              "    <tr>\n",
              "      <th>0</th>\n",
              "      <td>5.1</td>\n",
              "      <td>3.5</td>\n",
              "      <td>1.4</td>\n",
              "      <td>0.2</td>\n",
              "      <td>setosa</td>\n",
              "    </tr>\n",
              "    <tr>\n",
              "      <th>1</th>\n",
              "      <td>4.9</td>\n",
              "      <td>3.0</td>\n",
              "      <td>1.4</td>\n",
              "      <td>0.2</td>\n",
              "      <td>setosa</td>\n",
              "    </tr>\n",
              "    <tr>\n",
              "      <th>2</th>\n",
              "      <td>4.7</td>\n",
              "      <td>3.2</td>\n",
              "      <td>1.3</td>\n",
              "      <td>0.2</td>\n",
              "      <td>setosa</td>\n",
              "    </tr>\n",
              "    <tr>\n",
              "      <th>3</th>\n",
              "      <td>4.6</td>\n",
              "      <td>3.1</td>\n",
              "      <td>1.5</td>\n",
              "      <td>0.2</td>\n",
              "      <td>setosa</td>\n",
              "    </tr>\n",
              "    <tr>\n",
              "      <th>4</th>\n",
              "      <td>5.0</td>\n",
              "      <td>3.6</td>\n",
              "      <td>1.4</td>\n",
              "      <td>0.2</td>\n",
              "      <td>setosa</td>\n",
              "    </tr>\n",
              "    <tr>\n",
              "      <th>5</th>\n",
              "      <td>5.4</td>\n",
              "      <td>3.9</td>\n",
              "      <td>1.7</td>\n",
              "      <td>0.4</td>\n",
              "      <td>setosa</td>\n",
              "    </tr>\n",
              "    <tr>\n",
              "      <th>6</th>\n",
              "      <td>4.6</td>\n",
              "      <td>3.4</td>\n",
              "      <td>1.4</td>\n",
              "      <td>0.3</td>\n",
              "      <td>setosa</td>\n",
              "    </tr>\n",
              "    <tr>\n",
              "      <th>7</th>\n",
              "      <td>5.0</td>\n",
              "      <td>3.4</td>\n",
              "      <td>1.5</td>\n",
              "      <td>0.2</td>\n",
              "      <td>setosa</td>\n",
              "    </tr>\n",
              "  </tbody>\n",
              "</table>\n",
              "</div>"
            ],
            "text/plain": [
              "   sepal_length  sepal_width  petal_length  petal_width species\n",
              "0           5.1          3.5           1.4          0.2  setosa\n",
              "1           4.9          3.0           1.4          0.2  setosa\n",
              "2           4.7          3.2           1.3          0.2  setosa\n",
              "3           4.6          3.1           1.5          0.2  setosa\n",
              "4           5.0          3.6           1.4          0.2  setosa\n",
              "5           5.4          3.9           1.7          0.4  setosa\n",
              "6           4.6          3.4           1.4          0.3  setosa\n",
              "7           5.0          3.4           1.5          0.2  setosa"
            ]
          },
          "metadata": {
            "tags": []
          },
          "execution_count": 51
        }
      ]
    },
    {
      "cell_type": "code",
      "metadata": {
        "colab": {
          "base_uri": "https://localhost:8080/",
          "height": 237
        },
        "id": "-oNmzuMv1Y0o",
        "outputId": "5af61599-7240-4539-9124-c6e0fd14d689"
      },
      "source": [
        "df.tail(6)"
      ],
      "execution_count": null,
      "outputs": [
        {
          "output_type": "execute_result",
          "data": {
            "text/html": [
              "<div>\n",
              "<style scoped>\n",
              "    .dataframe tbody tr th:only-of-type {\n",
              "        vertical-align: middle;\n",
              "    }\n",
              "\n",
              "    .dataframe tbody tr th {\n",
              "        vertical-align: top;\n",
              "    }\n",
              "\n",
              "    .dataframe thead th {\n",
              "        text-align: right;\n",
              "    }\n",
              "</style>\n",
              "<table border=\"1\" class=\"dataframe\">\n",
              "  <thead>\n",
              "    <tr style=\"text-align: right;\">\n",
              "      <th></th>\n",
              "      <th>sepal_length</th>\n",
              "      <th>sepal_width</th>\n",
              "      <th>petal_length</th>\n",
              "      <th>petal_width</th>\n",
              "      <th>species</th>\n",
              "    </tr>\n",
              "  </thead>\n",
              "  <tbody>\n",
              "    <tr>\n",
              "      <th>144</th>\n",
              "      <td>6.7</td>\n",
              "      <td>3.3</td>\n",
              "      <td>5.7</td>\n",
              "      <td>2.5</td>\n",
              "      <td>virginica</td>\n",
              "    </tr>\n",
              "    <tr>\n",
              "      <th>145</th>\n",
              "      <td>6.7</td>\n",
              "      <td>3.0</td>\n",
              "      <td>5.2</td>\n",
              "      <td>2.3</td>\n",
              "      <td>virginica</td>\n",
              "    </tr>\n",
              "    <tr>\n",
              "      <th>146</th>\n",
              "      <td>6.3</td>\n",
              "      <td>2.5</td>\n",
              "      <td>5.0</td>\n",
              "      <td>1.9</td>\n",
              "      <td>virginica</td>\n",
              "    </tr>\n",
              "    <tr>\n",
              "      <th>147</th>\n",
              "      <td>6.5</td>\n",
              "      <td>3.0</td>\n",
              "      <td>5.2</td>\n",
              "      <td>2.0</td>\n",
              "      <td>virginica</td>\n",
              "    </tr>\n",
              "    <tr>\n",
              "      <th>148</th>\n",
              "      <td>6.2</td>\n",
              "      <td>3.4</td>\n",
              "      <td>5.4</td>\n",
              "      <td>2.3</td>\n",
              "      <td>virginica</td>\n",
              "    </tr>\n",
              "    <tr>\n",
              "      <th>149</th>\n",
              "      <td>5.9</td>\n",
              "      <td>3.0</td>\n",
              "      <td>5.1</td>\n",
              "      <td>1.8</td>\n",
              "      <td>virginica</td>\n",
              "    </tr>\n",
              "  </tbody>\n",
              "</table>\n",
              "</div>"
            ],
            "text/plain": [
              "     sepal_length  sepal_width  petal_length  petal_width    species\n",
              "144           6.7          3.3           5.7          2.5  virginica\n",
              "145           6.7          3.0           5.2          2.3  virginica\n",
              "146           6.3          2.5           5.0          1.9  virginica\n",
              "147           6.5          3.0           5.2          2.0  virginica\n",
              "148           6.2          3.4           5.4          2.3  virginica\n",
              "149           5.9          3.0           5.1          1.8  virginica"
            ]
          },
          "metadata": {
            "tags": []
          },
          "execution_count": 52
        }
      ]
    },
    {
      "cell_type": "code",
      "metadata": {
        "colab": {
          "base_uri": "https://localhost:8080/"
        },
        "id": "x_wwbjYk1vK2",
        "outputId": "f2a2b667-cae2-467b-df96-6411458e85c8"
      },
      "source": [
        "print(df.dtypes)"
      ],
      "execution_count": null,
      "outputs": [
        {
          "output_type": "stream",
          "text": [
            "sepal_length    float64\n",
            "sepal_width     float64\n",
            "petal_length    float64\n",
            "petal_width     float64\n",
            "species          object\n",
            "dtype: object\n"
          ],
          "name": "stdout"
        }
      ]
    },
    {
      "cell_type": "code",
      "metadata": {
        "colab": {
          "base_uri": "https://localhost:8080/"
        },
        "id": "Xl_weq3K2ldR",
        "outputId": "4c014e25-a11b-4d20-c714-05cb3352059d"
      },
      "source": [
        "df.describe"
      ],
      "execution_count": null,
      "outputs": [
        {
          "output_type": "execute_result",
          "data": {
            "text/plain": [
              "<bound method NDFrame.describe of      sepal_length  sepal_width  petal_length  petal_width    species\n",
              "0             5.1          3.5           1.4          0.2     setosa\n",
              "1             4.9          3.0           1.4          0.2     setosa\n",
              "2             4.7          3.2           1.3          0.2     setosa\n",
              "3             4.6          3.1           1.5          0.2     setosa\n",
              "4             5.0          3.6           1.4          0.2     setosa\n",
              "..            ...          ...           ...          ...        ...\n",
              "145           6.7          3.0           5.2          2.3  virginica\n",
              "146           6.3          2.5           5.0          1.9  virginica\n",
              "147           6.5          3.0           5.2          2.0  virginica\n",
              "148           6.2          3.4           5.4          2.3  virginica\n",
              "149           5.9          3.0           5.1          1.8  virginica\n",
              "\n",
              "[150 rows x 5 columns]>"
            ]
          },
          "metadata": {
            "tags": []
          },
          "execution_count": 54
        }
      ]
    },
    {
      "cell_type": "code",
      "metadata": {
        "colab": {
          "base_uri": "https://localhost:8080/",
          "height": 300
        },
        "id": "qMu6F_fr2Czn",
        "outputId": "8dbbcf3d-d028-444a-9428-d1500e54973a"
      },
      "source": [
        "df.describe()"
      ],
      "execution_count": null,
      "outputs": [
        {
          "output_type": "execute_result",
          "data": {
            "text/html": [
              "<div>\n",
              "<style scoped>\n",
              "    .dataframe tbody tr th:only-of-type {\n",
              "        vertical-align: middle;\n",
              "    }\n",
              "\n",
              "    .dataframe tbody tr th {\n",
              "        vertical-align: top;\n",
              "    }\n",
              "\n",
              "    .dataframe thead th {\n",
              "        text-align: right;\n",
              "    }\n",
              "</style>\n",
              "<table border=\"1\" class=\"dataframe\">\n",
              "  <thead>\n",
              "    <tr style=\"text-align: right;\">\n",
              "      <th></th>\n",
              "      <th>sepal_length</th>\n",
              "      <th>sepal_width</th>\n",
              "      <th>petal_length</th>\n",
              "      <th>petal_width</th>\n",
              "    </tr>\n",
              "  </thead>\n",
              "  <tbody>\n",
              "    <tr>\n",
              "      <th>count</th>\n",
              "      <td>150.000000</td>\n",
              "      <td>150.000000</td>\n",
              "      <td>150.000000</td>\n",
              "      <td>150.000000</td>\n",
              "    </tr>\n",
              "    <tr>\n",
              "      <th>mean</th>\n",
              "      <td>5.843333</td>\n",
              "      <td>3.054000</td>\n",
              "      <td>3.758667</td>\n",
              "      <td>1.198667</td>\n",
              "    </tr>\n",
              "    <tr>\n",
              "      <th>std</th>\n",
              "      <td>0.828066</td>\n",
              "      <td>0.433594</td>\n",
              "      <td>1.764420</td>\n",
              "      <td>0.763161</td>\n",
              "    </tr>\n",
              "    <tr>\n",
              "      <th>min</th>\n",
              "      <td>4.300000</td>\n",
              "      <td>2.000000</td>\n",
              "      <td>1.000000</td>\n",
              "      <td>0.100000</td>\n",
              "    </tr>\n",
              "    <tr>\n",
              "      <th>25%</th>\n",
              "      <td>5.100000</td>\n",
              "      <td>2.800000</td>\n",
              "      <td>1.600000</td>\n",
              "      <td>0.300000</td>\n",
              "    </tr>\n",
              "    <tr>\n",
              "      <th>50%</th>\n",
              "      <td>5.800000</td>\n",
              "      <td>3.000000</td>\n",
              "      <td>4.350000</td>\n",
              "      <td>1.300000</td>\n",
              "    </tr>\n",
              "    <tr>\n",
              "      <th>75%</th>\n",
              "      <td>6.400000</td>\n",
              "      <td>3.300000</td>\n",
              "      <td>5.100000</td>\n",
              "      <td>1.800000</td>\n",
              "    </tr>\n",
              "    <tr>\n",
              "      <th>max</th>\n",
              "      <td>7.900000</td>\n",
              "      <td>4.400000</td>\n",
              "      <td>6.900000</td>\n",
              "      <td>2.500000</td>\n",
              "    </tr>\n",
              "  </tbody>\n",
              "</table>\n",
              "</div>"
            ],
            "text/plain": [
              "       sepal_length  sepal_width  petal_length  petal_width\n",
              "count    150.000000   150.000000    150.000000   150.000000\n",
              "mean       5.843333     3.054000      3.758667     1.198667\n",
              "std        0.828066     0.433594      1.764420     0.763161\n",
              "min        4.300000     2.000000      1.000000     0.100000\n",
              "25%        5.100000     2.800000      1.600000     0.300000\n",
              "50%        5.800000     3.000000      4.350000     1.300000\n",
              "75%        6.400000     3.300000      5.100000     1.800000\n",
              "max        7.900000     4.400000      6.900000     2.500000"
            ]
          },
          "metadata": {
            "tags": []
          },
          "execution_count": 55
        }
      ]
    },
    {
      "cell_type": "code",
      "metadata": {
        "colab": {
          "base_uri": "https://localhost:8080/",
          "height": 423
        },
        "id": "RymG3Ml36mEx",
        "outputId": "76e5a469-77f9-4578-fc62-8b531cf8fab6"
      },
      "source": [
        "df.isnull()"
      ],
      "execution_count": null,
      "outputs": [
        {
          "output_type": "execute_result",
          "data": {
            "text/html": [
              "<div>\n",
              "<style scoped>\n",
              "    .dataframe tbody tr th:only-of-type {\n",
              "        vertical-align: middle;\n",
              "    }\n",
              "\n",
              "    .dataframe tbody tr th {\n",
              "        vertical-align: top;\n",
              "    }\n",
              "\n",
              "    .dataframe thead th {\n",
              "        text-align: right;\n",
              "    }\n",
              "</style>\n",
              "<table border=\"1\" class=\"dataframe\">\n",
              "  <thead>\n",
              "    <tr style=\"text-align: right;\">\n",
              "      <th></th>\n",
              "      <th>sepal_length</th>\n",
              "      <th>sepal_width</th>\n",
              "      <th>petal_length</th>\n",
              "      <th>petal_width</th>\n",
              "      <th>species</th>\n",
              "    </tr>\n",
              "  </thead>\n",
              "  <tbody>\n",
              "    <tr>\n",
              "      <th>0</th>\n",
              "      <td>False</td>\n",
              "      <td>False</td>\n",
              "      <td>False</td>\n",
              "      <td>False</td>\n",
              "      <td>False</td>\n",
              "    </tr>\n",
              "    <tr>\n",
              "      <th>1</th>\n",
              "      <td>False</td>\n",
              "      <td>False</td>\n",
              "      <td>False</td>\n",
              "      <td>False</td>\n",
              "      <td>False</td>\n",
              "    </tr>\n",
              "    <tr>\n",
              "      <th>2</th>\n",
              "      <td>False</td>\n",
              "      <td>False</td>\n",
              "      <td>False</td>\n",
              "      <td>False</td>\n",
              "      <td>False</td>\n",
              "    </tr>\n",
              "    <tr>\n",
              "      <th>3</th>\n",
              "      <td>False</td>\n",
              "      <td>False</td>\n",
              "      <td>False</td>\n",
              "      <td>False</td>\n",
              "      <td>False</td>\n",
              "    </tr>\n",
              "    <tr>\n",
              "      <th>4</th>\n",
              "      <td>False</td>\n",
              "      <td>False</td>\n",
              "      <td>False</td>\n",
              "      <td>False</td>\n",
              "      <td>False</td>\n",
              "    </tr>\n",
              "    <tr>\n",
              "      <th>...</th>\n",
              "      <td>...</td>\n",
              "      <td>...</td>\n",
              "      <td>...</td>\n",
              "      <td>...</td>\n",
              "      <td>...</td>\n",
              "    </tr>\n",
              "    <tr>\n",
              "      <th>145</th>\n",
              "      <td>False</td>\n",
              "      <td>False</td>\n",
              "      <td>False</td>\n",
              "      <td>False</td>\n",
              "      <td>False</td>\n",
              "    </tr>\n",
              "    <tr>\n",
              "      <th>146</th>\n",
              "      <td>False</td>\n",
              "      <td>False</td>\n",
              "      <td>False</td>\n",
              "      <td>False</td>\n",
              "      <td>False</td>\n",
              "    </tr>\n",
              "    <tr>\n",
              "      <th>147</th>\n",
              "      <td>False</td>\n",
              "      <td>False</td>\n",
              "      <td>False</td>\n",
              "      <td>False</td>\n",
              "      <td>False</td>\n",
              "    </tr>\n",
              "    <tr>\n",
              "      <th>148</th>\n",
              "      <td>False</td>\n",
              "      <td>False</td>\n",
              "      <td>False</td>\n",
              "      <td>False</td>\n",
              "      <td>False</td>\n",
              "    </tr>\n",
              "    <tr>\n",
              "      <th>149</th>\n",
              "      <td>False</td>\n",
              "      <td>False</td>\n",
              "      <td>False</td>\n",
              "      <td>False</td>\n",
              "      <td>False</td>\n",
              "    </tr>\n",
              "  </tbody>\n",
              "</table>\n",
              "<p>150 rows × 5 columns</p>\n",
              "</div>"
            ],
            "text/plain": [
              "     sepal_length  sepal_width  petal_length  petal_width  species\n",
              "0           False        False         False        False    False\n",
              "1           False        False         False        False    False\n",
              "2           False        False         False        False    False\n",
              "3           False        False         False        False    False\n",
              "4           False        False         False        False    False\n",
              "..            ...          ...           ...          ...      ...\n",
              "145         False        False         False        False    False\n",
              "146         False        False         False        False    False\n",
              "147         False        False         False        False    False\n",
              "148         False        False         False        False    False\n",
              "149         False        False         False        False    False\n",
              "\n",
              "[150 rows x 5 columns]"
            ]
          },
          "metadata": {
            "tags": []
          },
          "execution_count": 56
        }
      ]
    },
    {
      "cell_type": "code",
      "metadata": {
        "colab": {
          "base_uri": "https://localhost:8080/"
        },
        "id": "3PQmq3g65YvI",
        "outputId": "0dd013f2-9b05-457e-e1e2-2348d8f78886"
      },
      "source": [
        "df.isnull().sum()"
      ],
      "execution_count": null,
      "outputs": [
        {
          "output_type": "execute_result",
          "data": {
            "text/plain": [
              "sepal_length    0\n",
              "sepal_width     0\n",
              "petal_length    0\n",
              "petal_width     0\n",
              "species         0\n",
              "dtype: int64"
            ]
          },
          "metadata": {
            "tags": []
          },
          "execution_count": 57
        }
      ]
    },
    {
      "cell_type": "code",
      "metadata": {
        "id": "afo-uNZ56tL5"
      },
      "source": [
        "df = df.dropna()"
      ],
      "execution_count": null,
      "outputs": []
    },
    {
      "cell_type": "code",
      "metadata": {
        "colab": {
          "base_uri": "https://localhost:8080/"
        },
        "id": "MmEkz14c7YOV",
        "outputId": "ea527009-aedf-4dad-824d-aa6181bc491e"
      },
      "source": [
        "df.info()"
      ],
      "execution_count": null,
      "outputs": [
        {
          "output_type": "stream",
          "text": [
            "<class 'pandas.core.frame.DataFrame'>\n",
            "Int64Index: 150 entries, 0 to 149\n",
            "Data columns (total 5 columns):\n",
            " #   Column        Non-Null Count  Dtype  \n",
            "---  ------        --------------  -----  \n",
            " 0   sepal_length  150 non-null    float64\n",
            " 1   sepal_width   150 non-null    float64\n",
            " 2   petal_length  150 non-null    float64\n",
            " 3   petal_width   150 non-null    float64\n",
            " 4   species       150 non-null    object \n",
            "dtypes: float64(4), object(1)\n",
            "memory usage: 7.0+ KB\n"
          ],
          "name": "stdout"
        }
      ]
    },
    {
      "cell_type": "code",
      "metadata": {
        "colab": {
          "base_uri": "https://localhost:8080/"
        },
        "id": "8ycCJO018Shl",
        "outputId": "07b8a387-27bd-465a-8e8d-59f252818cf5"
      },
      "source": [
        "df.equals(df)"
      ],
      "execution_count": null,
      "outputs": [
        {
          "output_type": "execute_result",
          "data": {
            "text/plain": [
              "True"
            ]
          },
          "metadata": {
            "tags": []
          },
          "execution_count": 60
        }
      ]
    },
    {
      "cell_type": "code",
      "metadata": {
        "colab": {
          "base_uri": "https://localhost:8080/"
        },
        "id": "KGuX2mex--rE",
        "outputId": "7e695318-f154-4af2-8087-fc4472af7f1e"
      },
      "source": [
        "df.sepal_length.mean()"
      ],
      "execution_count": null,
      "outputs": [
        {
          "output_type": "execute_result",
          "data": {
            "text/plain": [
              "5.843333333333335"
            ]
          },
          "metadata": {
            "tags": []
          },
          "execution_count": 61
        }
      ]
    },
    {
      "cell_type": "code",
      "metadata": {
        "colab": {
          "base_uri": "https://localhost:8080/"
        },
        "id": "9W6VuUNB_HKN",
        "outputId": "e366083f-312f-4a09-8d59-400d36271f76"
      },
      "source": [
        "df.sepal_length.mode()"
      ],
      "execution_count": null,
      "outputs": [
        {
          "output_type": "execute_result",
          "data": {
            "text/plain": [
              "0    5.0\n",
              "dtype: float64"
            ]
          },
          "metadata": {
            "tags": []
          },
          "execution_count": 62
        }
      ]
    },
    {
      "cell_type": "code",
      "metadata": {
        "colab": {
          "base_uri": "https://localhost:8080/"
        },
        "id": "WrIzuXLx_YZ1",
        "outputId": "f9562b2c-3b45-4449-dc93-44f465e2809f"
      },
      "source": [
        "df.sepal_length.sum()"
      ],
      "execution_count": null,
      "outputs": [
        {
          "output_type": "execute_result",
          "data": {
            "text/plain": [
              "876.5"
            ]
          },
          "metadata": {
            "tags": []
          },
          "execution_count": 63
        }
      ]
    },
    {
      "cell_type": "code",
      "metadata": {
        "id": "LgYsf_cG_PCV"
      },
      "source": [
        "x = df.drop('species', axis = 1)"
      ],
      "execution_count": null,
      "outputs": []
    },
    {
      "cell_type": "code",
      "metadata": {
        "colab": {
          "base_uri": "https://localhost:8080/"
        },
        "id": "s6KLQel3G5-4",
        "outputId": "4a2ca489-1ba8-437f-e6a2-1ace0855daea"
      },
      "source": [
        "print(x)"
      ],
      "execution_count": null,
      "outputs": [
        {
          "output_type": "stream",
          "text": [
            "     sepal_length  sepal_width  petal_length  petal_width\n",
            "0             5.1          3.5           1.4          0.2\n",
            "1             4.9          3.0           1.4          0.2\n",
            "2             4.7          3.2           1.3          0.2\n",
            "3             4.6          3.1           1.5          0.2\n",
            "4             5.0          3.6           1.4          0.2\n",
            "..            ...          ...           ...          ...\n",
            "145           6.7          3.0           5.2          2.3\n",
            "146           6.3          2.5           5.0          1.9\n",
            "147           6.5          3.0           5.2          2.0\n",
            "148           6.2          3.4           5.4          2.3\n",
            "149           5.9          3.0           5.1          1.8\n",
            "\n",
            "[150 rows x 4 columns]\n"
          ],
          "name": "stdout"
        }
      ]
    },
    {
      "cell_type": "code",
      "metadata": {
        "id": "GsfniHfxEYz0"
      },
      "source": [
        "from sklearn import preprocessing\n",
        "min_max_scaler = preprocessing.MinMaxScaler(feature_range = (-1, 1))\n",
        "new_x = min_max_scaler.fit_transform(x)"
      ],
      "execution_count": null,
      "outputs": []
    },
    {
      "cell_type": "code",
      "metadata": {
        "colab": {
          "base_uri": "https://localhost:8080/"
        },
        "id": "kWsdQZWtHD-w",
        "outputId": "ada32665-30c6-4c6b-cfe9-128afc06caff"
      },
      "source": [
        "min_max_scaler"
      ],
      "execution_count": null,
      "outputs": [
        {
          "output_type": "execute_result",
          "data": {
            "text/plain": [
              "MinMaxScaler(copy=True, feature_range=(-1, 1))"
            ]
          },
          "metadata": {
            "tags": []
          },
          "execution_count": 71
        }
      ]
    },
    {
      "cell_type": "code",
      "metadata": {
        "colab": {
          "base_uri": "https://localhost:8080/"
        },
        "id": "S7So--gAHG7Y",
        "outputId": "e55309d8-e760-4ca1-a353-dbaeab058967"
      },
      "source": [
        "new_x"
      ],
      "execution_count": null,
      "outputs": [
        {
          "output_type": "execute_result",
          "data": {
            "text/plain": [
              "array([[-5.55555556e-01,  2.50000000e-01, -8.64406780e-01,\n",
              "        -9.16666667e-01],\n",
              "       [-6.66666667e-01, -1.66666667e-01, -8.64406780e-01,\n",
              "        -9.16666667e-01],\n",
              "       [-7.77777778e-01,  0.00000000e+00, -8.98305085e-01,\n",
              "        -9.16666667e-01],\n",
              "       [-8.33333333e-01, -8.33333333e-02, -8.30508475e-01,\n",
              "        -9.16666667e-01],\n",
              "       [-6.11111111e-01,  3.33333333e-01, -8.64406780e-01,\n",
              "        -9.16666667e-01],\n",
              "       [-3.88888889e-01,  5.83333333e-01, -7.62711864e-01,\n",
              "        -7.50000000e-01],\n",
              "       [-8.33333333e-01,  1.66666667e-01, -8.64406780e-01,\n",
              "        -8.33333333e-01],\n",
              "       [-6.11111111e-01,  1.66666667e-01, -8.30508475e-01,\n",
              "        -9.16666667e-01],\n",
              "       [-9.44444444e-01, -2.50000000e-01, -8.64406780e-01,\n",
              "        -9.16666667e-01],\n",
              "       [-6.66666667e-01, -8.33333333e-02, -8.30508475e-01,\n",
              "        -1.00000000e+00],\n",
              "       [-3.88888889e-01,  4.16666667e-01, -8.30508475e-01,\n",
              "        -9.16666667e-01],\n",
              "       [-7.22222222e-01,  1.66666667e-01, -7.96610169e-01,\n",
              "        -9.16666667e-01],\n",
              "       [-7.22222222e-01, -1.66666667e-01, -8.64406780e-01,\n",
              "        -1.00000000e+00],\n",
              "       [-1.00000000e+00, -1.66666667e-01, -9.66101695e-01,\n",
              "        -1.00000000e+00],\n",
              "       [-1.66666667e-01,  6.66666667e-01, -9.32203390e-01,\n",
              "        -9.16666667e-01],\n",
              "       [-2.22222222e-01,  1.00000000e+00, -8.30508475e-01,\n",
              "        -7.50000000e-01],\n",
              "       [-3.88888889e-01,  5.83333333e-01, -8.98305085e-01,\n",
              "        -7.50000000e-01],\n",
              "       [-5.55555556e-01,  2.50000000e-01, -8.64406780e-01,\n",
              "        -8.33333333e-01],\n",
              "       [-2.22222222e-01,  5.00000000e-01, -7.62711864e-01,\n",
              "        -8.33333333e-01],\n",
              "       [-5.55555556e-01,  5.00000000e-01, -8.30508475e-01,\n",
              "        -8.33333333e-01],\n",
              "       [-3.88888889e-01,  1.66666667e-01, -7.62711864e-01,\n",
              "        -9.16666667e-01],\n",
              "       [-5.55555556e-01,  4.16666667e-01, -8.30508475e-01,\n",
              "        -7.50000000e-01],\n",
              "       [-8.33333333e-01,  3.33333333e-01, -1.00000000e+00,\n",
              "        -9.16666667e-01],\n",
              "       [-5.55555556e-01,  8.33333333e-02, -7.62711864e-01,\n",
              "        -6.66666667e-01],\n",
              "       [-7.22222222e-01,  1.66666667e-01, -6.94915254e-01,\n",
              "        -9.16666667e-01],\n",
              "       [-6.11111111e-01, -1.66666667e-01, -7.96610169e-01,\n",
              "        -9.16666667e-01],\n",
              "       [-6.11111111e-01,  1.66666667e-01, -7.96610169e-01,\n",
              "        -7.50000000e-01],\n",
              "       [-5.00000000e-01,  2.50000000e-01, -8.30508475e-01,\n",
              "        -9.16666667e-01],\n",
              "       [-5.00000000e-01,  1.66666667e-01, -8.64406780e-01,\n",
              "        -9.16666667e-01],\n",
              "       [-7.77777778e-01,  0.00000000e+00, -7.96610169e-01,\n",
              "        -9.16666667e-01],\n",
              "       [-7.22222222e-01, -8.33333333e-02, -7.96610169e-01,\n",
              "        -9.16666667e-01],\n",
              "       [-3.88888889e-01,  1.66666667e-01, -8.30508475e-01,\n",
              "        -7.50000000e-01],\n",
              "       [-5.00000000e-01,  7.50000000e-01, -8.30508475e-01,\n",
              "        -1.00000000e+00],\n",
              "       [-3.33333333e-01,  8.33333333e-01, -8.64406780e-01,\n",
              "        -9.16666667e-01],\n",
              "       [-6.66666667e-01, -8.33333333e-02, -8.30508475e-01,\n",
              "        -1.00000000e+00],\n",
              "       [-6.11111111e-01,  0.00000000e+00, -9.32203390e-01,\n",
              "        -9.16666667e-01],\n",
              "       [-3.33333333e-01,  2.50000000e-01, -8.98305085e-01,\n",
              "        -9.16666667e-01],\n",
              "       [-6.66666667e-01, -8.33333333e-02, -8.30508475e-01,\n",
              "        -1.00000000e+00],\n",
              "       [-9.44444444e-01, -1.66666667e-01, -8.98305085e-01,\n",
              "        -9.16666667e-01],\n",
              "       [-5.55555556e-01,  1.66666667e-01, -8.30508475e-01,\n",
              "        -9.16666667e-01],\n",
              "       [-6.11111111e-01,  2.50000000e-01, -8.98305085e-01,\n",
              "        -8.33333333e-01],\n",
              "       [-8.88888889e-01, -7.50000000e-01, -8.98305085e-01,\n",
              "        -8.33333333e-01],\n",
              "       [-9.44444444e-01,  0.00000000e+00, -8.98305085e-01,\n",
              "        -9.16666667e-01],\n",
              "       [-6.11111111e-01,  2.50000000e-01, -7.96610169e-01,\n",
              "        -5.83333333e-01],\n",
              "       [-5.55555556e-01,  5.00000000e-01, -6.94915254e-01,\n",
              "        -7.50000000e-01],\n",
              "       [-7.22222222e-01, -1.66666667e-01, -8.64406780e-01,\n",
              "        -8.33333333e-01],\n",
              "       [-5.55555556e-01,  5.00000000e-01, -7.96610169e-01,\n",
              "        -9.16666667e-01],\n",
              "       [-8.33333333e-01,  0.00000000e+00, -8.64406780e-01,\n",
              "        -9.16666667e-01],\n",
              "       [-4.44444444e-01,  4.16666667e-01, -8.30508475e-01,\n",
              "        -9.16666667e-01],\n",
              "       [-6.11111111e-01,  8.33333333e-02, -8.64406780e-01,\n",
              "        -9.16666667e-01],\n",
              "       [ 5.00000000e-01,  0.00000000e+00,  2.54237288e-01,\n",
              "         8.33333333e-02],\n",
              "       [ 1.66666667e-01,  0.00000000e+00,  1.86440678e-01,\n",
              "         1.66666667e-01],\n",
              "       [ 4.44444444e-01, -8.33333333e-02,  3.22033898e-01,\n",
              "         1.66666667e-01],\n",
              "       [-3.33333333e-01, -7.50000000e-01,  1.69491525e-02,\n",
              "         2.22044605e-16],\n",
              "       [ 2.22222222e-01, -3.33333333e-01,  2.20338983e-01,\n",
              "         1.66666667e-01],\n",
              "       [-2.22222222e-01, -3.33333333e-01,  1.86440678e-01,\n",
              "         2.22044605e-16],\n",
              "       [ 1.11111111e-01,  8.33333333e-02,  2.54237288e-01,\n",
              "         2.50000000e-01],\n",
              "       [-6.66666667e-01, -6.66666667e-01, -2.20338983e-01,\n",
              "        -2.50000000e-01],\n",
              "       [ 2.77777778e-01, -2.50000000e-01,  2.20338983e-01,\n",
              "         2.22044605e-16],\n",
              "       [-5.00000000e-01, -4.16666667e-01, -1.69491525e-02,\n",
              "         8.33333333e-02],\n",
              "       [-6.11111111e-01, -1.00000000e+00, -1.52542373e-01,\n",
              "        -2.50000000e-01],\n",
              "       [-1.11111111e-01, -1.66666667e-01,  8.47457627e-02,\n",
              "         1.66666667e-01],\n",
              "       [-5.55555556e-02, -8.33333333e-01,  1.69491525e-02,\n",
              "        -2.50000000e-01],\n",
              "       [-4.44089210e-16, -2.50000000e-01,  2.54237288e-01,\n",
              "         8.33333333e-02],\n",
              "       [-2.77777778e-01, -2.50000000e-01, -1.18644068e-01,\n",
              "         2.22044605e-16],\n",
              "       [ 3.33333333e-01, -8.33333333e-02,  1.52542373e-01,\n",
              "         8.33333333e-02],\n",
              "       [-2.77777778e-01, -1.66666667e-01,  1.86440678e-01,\n",
              "         1.66666667e-01],\n",
              "       [-1.66666667e-01, -4.16666667e-01,  5.08474576e-02,\n",
              "        -2.50000000e-01],\n",
              "       [ 5.55555556e-02, -8.33333333e-01,  1.86440678e-01,\n",
              "         1.66666667e-01],\n",
              "       [-2.77777778e-01, -5.83333333e-01, -1.69491525e-02,\n",
              "        -1.66666667e-01],\n",
              "       [-1.11111111e-01,  0.00000000e+00,  2.88135593e-01,\n",
              "         4.16666667e-01],\n",
              "       [-4.44089210e-16, -3.33333333e-01,  1.69491525e-02,\n",
              "         2.22044605e-16],\n",
              "       [ 1.11111111e-01, -5.83333333e-01,  3.22033898e-01,\n",
              "         1.66666667e-01],\n",
              "       [-4.44089210e-16, -3.33333333e-01,  2.54237288e-01,\n",
              "        -8.33333333e-02],\n",
              "       [ 1.66666667e-01, -2.50000000e-01,  1.18644068e-01,\n",
              "         2.22044605e-16],\n",
              "       [ 2.77777778e-01, -1.66666667e-01,  1.52542373e-01,\n",
              "         8.33333333e-02],\n",
              "       [ 3.88888889e-01, -3.33333333e-01,  2.88135593e-01,\n",
              "         8.33333333e-02],\n",
              "       [ 3.33333333e-01, -1.66666667e-01,  3.55932203e-01,\n",
              "         3.33333333e-01],\n",
              "       [-5.55555556e-02, -2.50000000e-01,  1.86440678e-01,\n",
              "         1.66666667e-01],\n",
              "       [-2.22222222e-01, -5.00000000e-01, -1.52542373e-01,\n",
              "        -2.50000000e-01],\n",
              "       [-3.33333333e-01, -6.66666667e-01, -5.08474576e-02,\n",
              "        -1.66666667e-01],\n",
              "       [-3.33333333e-01, -6.66666667e-01, -8.47457627e-02,\n",
              "        -2.50000000e-01],\n",
              "       [-1.66666667e-01, -4.16666667e-01, -1.69491525e-02,\n",
              "        -8.33333333e-02],\n",
              "       [-5.55555556e-02, -4.16666667e-01,  3.89830508e-01,\n",
              "         2.50000000e-01],\n",
              "       [-3.88888889e-01, -1.66666667e-01,  1.86440678e-01,\n",
              "         1.66666667e-01],\n",
              "       [-5.55555556e-02,  1.66666667e-01,  1.86440678e-01,\n",
              "         2.50000000e-01],\n",
              "       [ 3.33333333e-01, -8.33333333e-02,  2.54237288e-01,\n",
              "         1.66666667e-01],\n",
              "       [ 1.11111111e-01, -7.50000000e-01,  1.52542373e-01,\n",
              "         2.22044605e-16],\n",
              "       [-2.77777778e-01, -1.66666667e-01,  5.08474576e-02,\n",
              "         2.22044605e-16],\n",
              "       [-3.33333333e-01, -5.83333333e-01,  1.69491525e-02,\n",
              "         2.22044605e-16],\n",
              "       [-3.33333333e-01, -5.00000000e-01,  1.52542373e-01,\n",
              "        -8.33333333e-02],\n",
              "       [-4.44089210e-16, -1.66666667e-01,  2.20338983e-01,\n",
              "         8.33333333e-02],\n",
              "       [-1.66666667e-01, -5.00000000e-01,  1.69491525e-02,\n",
              "        -8.33333333e-02],\n",
              "       [-6.11111111e-01, -7.50000000e-01, -2.20338983e-01,\n",
              "        -2.50000000e-01],\n",
              "       [-2.77777778e-01, -4.16666667e-01,  8.47457627e-02,\n",
              "         2.22044605e-16],\n",
              "       [-2.22222222e-01, -1.66666667e-01,  8.47457627e-02,\n",
              "        -8.33333333e-02],\n",
              "       [-2.22222222e-01, -2.50000000e-01,  8.47457627e-02,\n",
              "         2.22044605e-16],\n",
              "       [ 5.55555556e-02, -2.50000000e-01,  1.18644068e-01,\n",
              "         2.22044605e-16],\n",
              "       [-5.55555556e-01, -5.83333333e-01, -3.22033898e-01,\n",
              "        -1.66666667e-01],\n",
              "       [-2.22222222e-01, -3.33333333e-01,  5.08474576e-02,\n",
              "         2.22044605e-16],\n",
              "       [ 1.11111111e-01,  8.33333333e-02,  6.94915254e-01,\n",
              "         1.00000000e+00],\n",
              "       [-1.66666667e-01, -4.16666667e-01,  3.89830508e-01,\n",
              "         5.00000000e-01],\n",
              "       [ 5.55555556e-01, -1.66666667e-01,  6.61016949e-01,\n",
              "         6.66666667e-01],\n",
              "       [ 1.11111111e-01, -2.50000000e-01,  5.59322034e-01,\n",
              "         4.16666667e-01],\n",
              "       [ 2.22222222e-01, -1.66666667e-01,  6.27118644e-01,\n",
              "         7.50000000e-01],\n",
              "       [ 8.33333333e-01, -1.66666667e-01,  8.98305085e-01,\n",
              "         6.66666667e-01],\n",
              "       [-6.66666667e-01, -5.83333333e-01,  1.86440678e-01,\n",
              "         3.33333333e-01],\n",
              "       [ 6.66666667e-01, -2.50000000e-01,  7.96610169e-01,\n",
              "         4.16666667e-01],\n",
              "       [ 3.33333333e-01, -5.83333333e-01,  6.27118644e-01,\n",
              "         4.16666667e-01],\n",
              "       [ 6.11111111e-01,  3.33333333e-01,  7.28813559e-01,\n",
              "         1.00000000e+00],\n",
              "       [ 2.22222222e-01,  0.00000000e+00,  3.89830508e-01,\n",
              "         5.83333333e-01],\n",
              "       [ 1.66666667e-01, -4.16666667e-01,  4.57627119e-01,\n",
              "         5.00000000e-01],\n",
              "       [ 3.88888889e-01, -1.66666667e-01,  5.25423729e-01,\n",
              "         6.66666667e-01],\n",
              "       [-2.22222222e-01, -5.83333333e-01,  3.55932203e-01,\n",
              "         5.83333333e-01],\n",
              "       [-1.66666667e-01, -3.33333333e-01,  3.89830508e-01,\n",
              "         9.16666667e-01],\n",
              "       [ 1.66666667e-01,  0.00000000e+00,  4.57627119e-01,\n",
              "         8.33333333e-01],\n",
              "       [ 2.22222222e-01, -1.66666667e-01,  5.25423729e-01,\n",
              "         4.16666667e-01],\n",
              "       [ 8.88888889e-01,  5.00000000e-01,  9.32203390e-01,\n",
              "         7.50000000e-01],\n",
              "       [ 8.88888889e-01, -5.00000000e-01,  1.00000000e+00,\n",
              "         8.33333333e-01],\n",
              "       [-5.55555556e-02, -8.33333333e-01,  3.55932203e-01,\n",
              "         1.66666667e-01],\n",
              "       [ 4.44444444e-01,  0.00000000e+00,  5.93220339e-01,\n",
              "         8.33333333e-01],\n",
              "       [-2.77777778e-01, -3.33333333e-01,  3.22033898e-01,\n",
              "         5.83333333e-01],\n",
              "       [ 8.88888889e-01, -3.33333333e-01,  9.32203390e-01,\n",
              "         5.83333333e-01],\n",
              "       [ 1.11111111e-01, -4.16666667e-01,  3.22033898e-01,\n",
              "         4.16666667e-01],\n",
              "       [ 3.33333333e-01,  8.33333333e-02,  5.93220339e-01,\n",
              "         6.66666667e-01],\n",
              "       [ 6.11111111e-01,  0.00000000e+00,  6.94915254e-01,\n",
              "         4.16666667e-01],\n",
              "       [ 5.55555556e-02, -3.33333333e-01,  2.88135593e-01,\n",
              "         4.16666667e-01],\n",
              "       [-4.44089210e-16, -1.66666667e-01,  3.22033898e-01,\n",
              "         4.16666667e-01],\n",
              "       [ 1.66666667e-01, -3.33333333e-01,  5.59322034e-01,\n",
              "         6.66666667e-01],\n",
              "       [ 6.11111111e-01, -1.66666667e-01,  6.27118644e-01,\n",
              "         2.50000000e-01],\n",
              "       [ 7.22222222e-01, -3.33333333e-01,  7.28813559e-01,\n",
              "         5.00000000e-01],\n",
              "       [ 1.00000000e+00,  5.00000000e-01,  8.30508475e-01,\n",
              "         5.83333333e-01],\n",
              "       [ 1.66666667e-01, -3.33333333e-01,  5.59322034e-01,\n",
              "         7.50000000e-01],\n",
              "       [ 1.11111111e-01, -3.33333333e-01,  3.89830508e-01,\n",
              "         1.66666667e-01],\n",
              "       [-4.44089210e-16, -5.00000000e-01,  5.59322034e-01,\n",
              "         8.33333333e-02],\n",
              "       [ 8.88888889e-01, -1.66666667e-01,  7.28813559e-01,\n",
              "         8.33333333e-01],\n",
              "       [ 1.11111111e-01,  1.66666667e-01,  5.59322034e-01,\n",
              "         9.16666667e-01],\n",
              "       [ 1.66666667e-01, -8.33333333e-02,  5.25423729e-01,\n",
              "         4.16666667e-01],\n",
              "       [-5.55555556e-02, -1.66666667e-01,  2.88135593e-01,\n",
              "         4.16666667e-01],\n",
              "       [ 4.44444444e-01, -8.33333333e-02,  4.91525424e-01,\n",
              "         6.66666667e-01],\n",
              "       [ 3.33333333e-01, -8.33333333e-02,  5.59322034e-01,\n",
              "         9.16666667e-01],\n",
              "       [ 4.44444444e-01, -8.33333333e-02,  3.89830508e-01,\n",
              "         8.33333333e-01],\n",
              "       [-1.66666667e-01, -4.16666667e-01,  3.89830508e-01,\n",
              "         5.00000000e-01],\n",
              "       [ 3.88888889e-01,  0.00000000e+00,  6.61016949e-01,\n",
              "         8.33333333e-01],\n",
              "       [ 3.33333333e-01,  8.33333333e-02,  5.93220339e-01,\n",
              "         1.00000000e+00],\n",
              "       [ 3.33333333e-01, -1.66666667e-01,  4.23728814e-01,\n",
              "         8.33333333e-01],\n",
              "       [ 1.11111111e-01, -5.83333333e-01,  3.55932203e-01,\n",
              "         5.00000000e-01],\n",
              "       [ 2.22222222e-01, -1.66666667e-01,  4.23728814e-01,\n",
              "         5.83333333e-01],\n",
              "       [ 5.55555556e-02,  1.66666667e-01,  4.91525424e-01,\n",
              "         8.33333333e-01],\n",
              "       [-1.11111111e-01, -1.66666667e-01,  3.89830508e-01,\n",
              "         4.16666667e-01]])"
            ]
          },
          "metadata": {
            "tags": []
          },
          "execution_count": 72
        }
      ]
    },
    {
      "cell_type": "code",
      "metadata": {
        "id": "46Wzaj4bHRww"
      },
      "source": [
        ""
      ],
      "execution_count": null,
      "outputs": []
    }
  ]
}