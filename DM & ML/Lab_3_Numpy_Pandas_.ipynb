{
  "nbformat": 4,
  "nbformat_minor": 0,
  "metadata": {
    "colab": {
      "name": "Lab-3_Numpy_Pandas_.ipynb",
      "provenance": []
    },
    "kernelspec": {
      "name": "python3",
      "display_name": "Python 3"
    },
    "language_info": {
      "name": "python"
    }
  },
  "cells": [
    {
      "cell_type": "code",
      "metadata": {
        "colab": {
          "base_uri": "https://localhost:8080/"
        },
        "id": "pf1kKY9On6o8",
        "outputId": "125c3ba7-bfac-4e9a-d8a3-5a9ce3cbe3e8"
      },
      "source": [
        "import numpy as np\n",
        "arr = np.array([1,2,3,4])\n",
        "print(arr)"
      ],
      "execution_count": 3,
      "outputs": [
        {
          "output_type": "stream",
          "text": [
            "[1 2 3 4]\n"
          ],
          "name": "stdout"
        }
      ]
    },
    {
      "cell_type": "code",
      "metadata": {
        "colab": {
          "base_uri": "https://localhost:8080/"
        },
        "id": "SWd1UVt8uc9x",
        "outputId": "74732476-b4f1-457c-eeb2-b14edf268c37"
      },
      "source": [
        "print(type(arr))"
      ],
      "execution_count": 7,
      "outputs": [
        {
          "output_type": "stream",
          "text": [
            "<class 'numpy.ndarray'>\n"
          ],
          "name": "stdout"
        }
      ]
    },
    {
      "cell_type": "code",
      "metadata": {
        "colab": {
          "base_uri": "https://localhost:8080/"
        },
        "id": "-Rc9sgYAr3oa",
        "outputId": "22fa5d5d-64a7-48ba-cc3b-8fd84532f2e7"
      },
      "source": [
        "num1 = np.array([[1,2,3],[4,5,6],[7,8,9]])\n",
        "print(num1)"
      ],
      "execution_count": 6,
      "outputs": [
        {
          "output_type": "stream",
          "text": [
            "[[1 2 3]\n",
            " [4 5 6]\n",
            " [7 8 9]]\n"
          ],
          "name": "stdout"
        }
      ]
    },
    {
      "cell_type": "markdown",
      "metadata": {
        "id": "EX8PypGTwEAJ"
      },
      "source": [
        "**Check Dimension of array**"
      ]
    },
    {
      "cell_type": "code",
      "metadata": {
        "colab": {
          "base_uri": "https://localhost:8080/"
        },
        "id": "sHdys36OwTnO",
        "outputId": "f71bc678-872f-4190-bece-818e7174ff83"
      },
      "source": [
        "a = np.array(2)\n",
        "b = np.array([0,1,2])\n",
        "c = np.array([[1,2,3],[2,3,4]])\n",
        "d = np.array([[[4,2,1],[3,44,56],[3,4,5]]])\n",
        "e = np.array([[[[6,7,4],[4,5,6],[4,5,9],[67,8,6]]]])\n",
        "\n",
        "print(a.ndim)\n",
        "print(b.ndim)\n",
        "print(c.ndim)\n",
        "print(d.ndim)\n",
        "print(e.ndim)\n"
      ],
      "execution_count": 11,
      "outputs": [
        {
          "output_type": "stream",
          "text": [
            "0\n",
            "1\n",
            "2\n",
            "3\n",
            "4\n"
          ],
          "name": "stdout"
        }
      ]
    },
    {
      "cell_type": "markdown",
      "metadata": {
        "id": "xUA0FZzGyVnQ"
      },
      "source": [
        "**Higher Dimentional Array**"
      ]
    },
    {
      "cell_type": "code",
      "metadata": {
        "colab": {
          "base_uri": "https://localhost:8080/"
        },
        "id": "gfT-7HlHyZU0",
        "outputId": "c4f246fc-142f-4e13-d3db-82814355a235"
      },
      "source": [
        "import numpy as np\n",
        "arr = np.array([1,2,3,4,5,6,7,8],ndmin = 8)\n",
        "print(arr)\n",
        "print(\"Number of dimension : \",arr.ndim)"
      ],
      "execution_count": 13,
      "outputs": [
        {
          "output_type": "stream",
          "text": [
            "[[[[[[[[1 2 3 4 5 6 7 8]]]]]]]]\n",
            "Number of dimension :  8\n"
          ],
          "name": "stdout"
        }
      ]
    },
    {
      "cell_type": "markdown",
      "metadata": {
        "id": "v9wdDyfl0ZbC"
      },
      "source": [
        "**Show array index value**"
      ]
    },
    {
      "cell_type": "code",
      "metadata": {
        "colab": {
          "base_uri": "https://localhost:8080/"
        },
        "id": "2eQd86fZ0D97",
        "outputId": "640e3d36-82af-48f5-f30d-0c4214346d77"
      },
      "source": [
        "arr = np.array([1,2,3,4,5,6,7])\n",
        "print(arr[4])"
      ],
      "execution_count": 14,
      "outputs": [
        {
          "output_type": "stream",
          "text": [
            "5\n"
          ],
          "name": "stdout"
        }
      ]
    },
    {
      "cell_type": "markdown",
      "metadata": {
        "id": "nMPS_Fzj0f7u"
      },
      "source": [
        "**Get 3th and 4th element and add them**"
      ]
    },
    {
      "cell_type": "code",
      "metadata": {
        "colab": {
          "base_uri": "https://localhost:8080/"
        },
        "id": "TF2pAgpT0W2F",
        "outputId": "c4448f50-30b0-4440-d3f0-589e5af72fa3"
      },
      "source": [
        "arr = np.array([10,12,14,16,18])\n",
        "print(arr[3] + arr[4])\n",
        "print(arr[3] * arr[4])\n",
        "print(arr[4] - arr[3])"
      ],
      "execution_count": 16,
      "outputs": [
        {
          "output_type": "stream",
          "text": [
            "34\n",
            "288\n",
            "2\n"
          ],
          "name": "stdout"
        }
      ]
    },
    {
      "cell_type": "code",
      "metadata": {
        "colab": {
          "base_uri": "https://localhost:8080/"
        },
        "id": "tjKkWH7F1DhI",
        "outputId": "b0afece8-6bc9-492f-a444-6eda635e007e"
      },
      "source": [
        "arr = np.array([[1,2,3],[4,5,6]])\n",
        "print(\"2nd element on 1st dim : \",arr[0,1])"
      ],
      "execution_count": 17,
      "outputs": [
        {
          "output_type": "stream",
          "text": [
            "2nd element on 1st dim :  2\n"
          ],
          "name": "stdout"
        }
      ]
    },
    {
      "cell_type": "code",
      "metadata": {
        "colab": {
          "base_uri": "https://localhost:8080/"
        },
        "id": "WBJPKZUA4r5z",
        "outputId": "65d79711-4326-4a61-90cc-fdac248d18b2"
      },
      "source": [
        "arr = np.array([[1,2,3],[4,5,6]])\n",
        "print(arr[0,2]+ arr[1,2])"
      ],
      "execution_count": 19,
      "outputs": [
        {
          "output_type": "stream",
          "text": [
            "9\n"
          ],
          "name": "stdout"
        }
      ]
    },
    {
      "cell_type": "code",
      "metadata": {
        "colab": {
          "base_uri": "https://localhost:8080/"
        },
        "id": "rcqkQVAg61SH",
        "outputId": "bb1fc051-76cc-4ca9-8cb4-a5416846e548"
      },
      "source": [
        "arr = np.array([[[1,2,3],[4,6,9]],[[1,4,5],[4,7,1]]])\n",
        "print(arr[1,1,1])"
      ],
      "execution_count": 20,
      "outputs": [
        {
          "output_type": "stream",
          "text": [
            "7\n"
          ],
          "name": "stdout"
        }
      ]
    },
    {
      "cell_type": "markdown",
      "metadata": {
        "id": "U2ydbMz5812M"
      },
      "source": [
        "**Negative Indexing**"
      ]
    },
    {
      "cell_type": "code",
      "metadata": {
        "colab": {
          "base_uri": "https://localhost:8080/"
        },
        "id": "AuI4wi_a802y",
        "outputId": "21c9f0e1-1a6f-4e70-bbda-3e176c62d73c"
      },
      "source": [
        "arr = np.array([[[1,2,3],[4,6,9]],[[1,4,5],[4,7,1]]])\n",
        "print(\"2nd element of last dim : \", arr[1,-1,-2])"
      ],
      "execution_count": 21,
      "outputs": [
        {
          "output_type": "stream",
          "text": [
            "2nd element of last dim :  7\n"
          ],
          "name": "stdout"
        }
      ]
    },
    {
      "cell_type": "markdown",
      "metadata": {
        "id": "fIrO4uqm-kJ_"
      },
      "source": [
        "**Slicing Array**"
      ]
    },
    {
      "cell_type": "code",
      "metadata": {
        "colab": {
          "base_uri": "https://localhost:8080/"
        },
        "id": "B1PCTM9k-q9Q",
        "outputId": "47745aa6-fd35-42d2-c372-964a73856dd9"
      },
      "source": [
        "arr = np.array([1,2,3,4,5,6,7,])\n",
        "print(arr[3:6])\n",
        "print(arr[::])\n",
        "print(arr[1::3])\n",
        "print(arr[5:])"
      ],
      "execution_count": 25,
      "outputs": [
        {
          "output_type": "stream",
          "text": [
            "[4 5 6]\n",
            "[1 2 3 4 5 6 7]\n",
            "[2 5]\n",
            "[6 7]\n"
          ],
          "name": "stdout"
        }
      ]
    }
  ]
}