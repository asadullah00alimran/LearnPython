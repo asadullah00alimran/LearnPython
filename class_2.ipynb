{
  "nbformat": 4,
  "nbformat_minor": 0,
  "metadata": {
    "colab": {
      "name": "class 2.ipynb",
      "provenance": [],
      "collapsed_sections": [],
      "include_colab_link": true
    },
    "kernelspec": {
      "name": "python3",
      "display_name": "Python 3"
    }
  },
  "cells": [
    {
      "cell_type": "markdown",
      "metadata": {
        "id": "view-in-github",
        "colab_type": "text"
      },
      "source": [
        "<a href=\"https://colab.research.google.com/github/asadullah00alimran/LearnPython/blob/main/class_2.ipynb\" target=\"_parent\"><img src=\"https://colab.research.google.com/assets/colab-badge.svg\" alt=\"Open In Colab\"/></a>"
      ]
    },
    {
      "cell_type": "code",
      "metadata": {
        "id": "b4Od0iasLSfN",
        "colab": {
          "base_uri": "https://localhost:8080/",
          "height": 145
        },
        "outputId": "abc8ff11-ab76-4393-fdf7-f1c8e6b7a213"
      },
      "source": [
        " #Print & Comment\n",
        "\n",
        "print(\"\\t Hello! \\n  Welcome to the class\\n \\\"Thanks For Watching\\\"\")\n",
        "\n",
        "'''\n",
        "print('Oop1')\n",
        "print('Oop2')\n",
        "'''\n",
        "print('\\n \\n')\n",
        "print('This is Pythin Program')\n",
        "\n"
      ],
      "execution_count": null,
      "outputs": [
        {
          "output_type": "stream",
          "text": [
            "\t Hello! \n",
            "  Welcome to the class\n",
            " \"Thanks For Watching\"\n",
            "\n",
            " \n",
            "\n",
            "This is Pythin Program\n"
          ],
          "name": "stdout"
        }
      ]
    },
    {
      "cell_type": "code",
      "metadata": {
        "id": "SA0dxrZ3Qjyp",
        "colab": {
          "base_uri": "https://localhost:8080/",
          "height": 72
        },
        "outputId": "09fb2cae-a07e-450f-a511-dad2b4b4f590"
      },
      "source": [
        "#Variables\n",
        "name1='Nusrat'\n",
        "name2='Jahan'\n",
        "id=12999\n",
        "age=20\n",
        "\n",
        "print(\"I am \"+name1+' '+name2 )\n",
        "print('ID-',id,'\\nI am',age,'years old')"
      ],
      "execution_count": null,
      "outputs": [
        {
          "output_type": "stream",
          "text": [
            "I am Nusrat Jahan\n",
            "ID- 12999 \n",
            "I am 20 years old\n"
          ],
          "name": "stdout"
        }
      ]
    },
    {
      "cell_type": "code",
      "metadata": {
        "id": "VkCUZqw5GJrn",
        "colab": {
          "base_uri": "https://localhost:8080/",
          "height": 108
        },
        "outputId": "a7516bbe-486c-47d7-ddd7-28da51b6f851"
      },
      "source": [
        "#Input\n",
        "a=22\n",
        "b=4\n",
        "\n",
        "r=a+b\n",
        "print(r)\n",
        "\n",
        "r=a-b\n",
        "print(r)\n",
        "\n",
        "r=a*b\n",
        "print(r)\n",
        "\n",
        "r=a/b\n",
        "print(r)\n",
        "\n",
        "r=a%b\n",
        "print(r)\n",
        "\n"
      ],
      "execution_count": null,
      "outputs": [
        {
          "output_type": "stream",
          "text": [
            "26\n",
            "18\n",
            "88\n",
            "5.5\n",
            "2\n"
          ],
          "name": "stdout"
        }
      ]
    },
    {
      "cell_type": "code",
      "metadata": {
        "id": "mUUmCjpmNcPH",
        "colab": {
          "base_uri": "https://localhost:8080/",
          "height": 54
        },
        "outputId": "545b4911-2514-4cbc-9e65-20701e8bff91"
      },
      "source": [
        "a=4\n",
        "r=a**2\n",
        "print(r)\n",
        "b=22\n",
        "r=b//a   \n",
        "print(r)\n"
      ],
      "execution_count": null,
      "outputs": [
        {
          "output_type": "stream",
          "text": [
            "16\n",
            "5\n"
          ],
          "name": "stdout"
        }
      ]
    },
    {
      "cell_type": "code",
      "metadata": {
        "id": "AQa6vzr8OFCG",
        "colab": {
          "base_uri": "https://localhost:8080/",
          "height": 90
        },
        "outputId": "f4141eb6-6bd9-4086-d57f-164be9929d50"
      },
      "source": [
        "a=input()\n",
        "print(a)\n",
        "\n",
        "b= int (input())\n",
        "print(b)\n",
        "\n"
      ],
      "execution_count": null,
      "outputs": [
        {
          "output_type": "stream",
          "text": [
            "4\n",
            "4\n",
            "7\n",
            "7\n"
          ],
          "name": "stdout"
        }
      ]
    },
    {
      "cell_type": "code",
      "metadata": {
        "id": "f6i2pGJAZ1_Y",
        "colab": {
          "base_uri": "https://localhost:8080/",
          "height": 181
        },
        "outputId": "eac27ea3-222c-48e1-da05-c29e2f82a6bb"
      },
      "source": [
        "name= input(\"Enter Your Name : \" )\n",
        "Dept= input(\"Enter Your Dept : \" )\n",
        "batch= input(\"Enter Your batch no : \" )\n",
        "print('\\n \\n')\n",
        "print('My name is '+name)\n",
        "print('Dept of '+Dept)\n",
        "print('From',batch,'Batch')"
      ],
      "execution_count": null,
      "outputs": [
        {
          "output_type": "stream",
          "text": [
            "Enter Your Name : 4\n",
            "Enter Your Dept : 6\n",
            "Enter Your batch no : 4\n",
            "\n",
            " \n",
            "\n",
            "My name is 4\n",
            "Dept of 6\n",
            "From 4 Batch\n"
          ],
          "name": "stdout"
        }
      ]
    },
    {
      "cell_type": "code",
      "metadata": {
        "id": "gTLghRQ_VnaK",
        "colab": {
          "base_uri": "https://localhost:8080/",
          "height": 35
        },
        "outputId": "abc283b7-6110-49c1-e770-8ae4048e0ae8"
      },
      "source": [
        "#Type casting\n",
        "name= input(\"Enter Your Name : \" )\n",
        "age=int (input(\"Enter Your Age : \" ))\n",
        "Cgpa= float (input(\"Enter Your Cgpa : \" ))\n",
        "print('\\n \\n')\n",
        "print('My name is '+name)\n",
        "print('I am ',age,'years old')\n",
        "print('Cgpa=',Cgpa,)"
      ],
      "execution_count": null,
      "outputs": [
        {
          "output_type": "stream",
          "text": [
            "Enter Your Name : tt\n"
          ],
          "name": "stdout"
        }
      ]
    }
  ]
}