{
  "nbformat": 4,
  "nbformat_minor": 0,
  "metadata": {
    "colab": {
      "name": "Lab1_DM&ML.ipynb",
      "provenance": [],
      "collapsed_sections": [],
      "authorship_tag": "ABX9TyMWDP2WrkeVbB7Df+3Kr087",
      "include_colab_link": true
    },
    "kernelspec": {
      "name": "python3",
      "display_name": "Python 3"
    },
    "language_info": {
      "name": "python"
    }
  },
  "cells": [
    {
      "cell_type": "markdown",
      "metadata": {
        "id": "view-in-github",
        "colab_type": "text"
      },
      "source": [
        "<a href=\"https://colab.research.google.com/github/asadullah00alimran/LearnPython/blob/main/Lab1_DM%26ML.ipynb\" target=\"_parent\"><img src=\"https://colab.research.google.com/assets/colab-badge.svg\" alt=\"Open In Colab\"/></a>"
      ]
    },
    {
      "cell_type": "markdown",
      "metadata": {
        "id": "sl1X9dzJNF1D"
      },
      "source": [
        "**1. Write a Python program to convert the distance (in feet) to inches, yards, and miles.**"
      ]
    },
    {
      "cell_type": "code",
      "metadata": {
        "colab": {
          "base_uri": "https://localhost:8080/"
        },
        "id": "KxHMDss4NTp5",
        "outputId": "6fbf8a55-b9fd-4064-b1ae-974623a65440"
      },
      "source": [
        "feet = int(input(\"Enter Input : \"))\n",
        "inchi = feet/12\n",
        "print(feet , \"Feet = \" , inchi , \"Inches\")\n",
        "\n",
        "yard = feet*0.333333\n",
        "print(feet , \"Feet = \" , round(yard, 3) , \"Yards\")\n",
        "\n",
        "mile = feet*0.000189394\n",
        "print(feet , \"Feet = \" , round(mile, 7) , \"Miles\")"
      ],
      "execution_count": null,
      "outputs": [
        {
          "output_type": "stream",
          "text": [
            "Enter Input : 100\n",
            "100 Feet =  8.333333333333334 Inches\n",
            "100 Feet =  33.333 Yards\n",
            "100 Feet =  0.0189394 Miles\n"
          ],
          "name": "stdout"
        }
      ]
    },
    {
      "cell_type": "markdown",
      "metadata": {
        "id": "ZUD2YdJ0NZ1k"
      },
      "source": [
        "**2. Write a Python program to reverse all the words which have even length.**"
      ]
    },
    {
      "cell_type": "code",
      "metadata": {
        "colab": {
          "base_uri": "https://localhost:8080/"
        },
        "id": "WPMftJdg0JJA",
        "outputId": "b3360fa4-5a8d-4a98-e999-dfc07d8efa6e"
      },
      "source": [
        "txt_1 = \"It is raining Cats and Dogs\"\n",
        "\n",
        "def reverse_even_length(txt):\n",
        "         return ' '.join(i[::-1] if not len(i)%2 else i for i in txt.split())\n",
        "print(reverse_even_length(txt_1))\n"
      ],
      "execution_count": null,
      "outputs": [
        {
          "output_type": "stream",
          "text": [
            "tI si raining staC and sgoD\n"
          ],
          "name": "stdout"
        }
      ]
    },
    {
      "cell_type": "markdown",
      "metadata": {
        "id": "rNM1CxBzNEHe"
      },
      "source": [
        "**3. Write a Python program to check whether two given circles (given center (x,y) and radius) are intersecting. Return true for intersecting otherwise false.**"
      ]
    },
    {
      "cell_type": "code",
      "metadata": {
        "colab": {
          "base_uri": "https://localhost:8080/"
        },
        "id": "1yaIIDZINumx",
        "outputId": "a345b627-09d3-48b0-8546-8148ef27c0c3"
      },
      "source": [
        "def is_circle_collision(circle1, circle2):\n",
        "   x1, y1, r1 = circle1\n",
        "   x2, y2, r2 = circle2\n",
        "   distance = ((x1-x2)**2 + (y1-y2)**2)**0.5\n",
        "   return distance <= r1 + r2\n",
        "print(is_circle_collision([1,2, 4], [1,2, 8]))\n",
        "print(is_circle_collision([0,0, 2], [10,10, 5]))"
      ],
      "execution_count": null,
      "outputs": [
        {
          "output_type": "stream",
          "text": [
            "True\n",
            "False\n"
          ],
          "name": "stdout"
        }
      ]
    },
    {
      "cell_type": "markdown",
      "metadata": {
        "id": "ijHlJP5aQvkZ"
      },
      "source": [
        "**4. Write a Python program to remove two duplicate numbers from a given number of list.**"
      ]
    },
    {
      "cell_type": "code",
      "metadata": {
        "colab": {
          "base_uri": "https://localhost:8080/"
        },
        "id": "bLVFfw6pQ5d-",
        "outputId": "6f051f51-5fc7-41f4-a142-7eb474c352b1"
      },
      "source": [
        "duplicate = [230, 130, 100, 200, 745, 230, 200, 40,235, 130, 145]\n",
        "def Remove(duplicate):\n",
        "\tfinal_list = []\n",
        "\tfor num in duplicate:\n",
        "\t\tif num not in final_list:\n",
        "\t\t\tfinal_list.append(num)\n",
        "\treturn final_list\n",
        "\t\n",
        "print(f\"After remove duplicate numbers : {Remove(duplicate)}\")\n"
      ],
      "execution_count": null,
      "outputs": [
        {
          "output_type": "stream",
          "text": [
            "After remove duplicate numbers : [230, 130, 100, 200, 745, 40, 235, 145]\n"
          ],
          "name": "stdout"
        }
      ]
    }
  ]
}