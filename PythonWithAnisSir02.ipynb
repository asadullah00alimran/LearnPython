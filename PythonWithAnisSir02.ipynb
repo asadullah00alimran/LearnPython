{
  "nbformat": 4,
  "nbformat_minor": 0,
  "metadata": {
    "colab": {
      "name": "PythonWithAnisSir02.ipynb",
      "provenance": [],
      "authorship_tag": "ABX9TyP609B8Znlnvkmsp8idx7Zs",
      "include_colab_link": true
    },
    "kernelspec": {
      "name": "python3",
      "display_name": "Python 3"
    }
  },
  "cells": [
    {
      "cell_type": "markdown",
      "metadata": {
        "id": "view-in-github",
        "colab_type": "text"
      },
      "source": [
        "<a href=\"https://colab.research.google.com/github/asadullah00alimran/LearnPython/blob/main/PythonWithAnisSir02.ipynb\" target=\"_parent\"><img src=\"https://colab.research.google.com/assets/colab-badge.svg\" alt=\"Open In Colab\"/></a>"
      ]
    },
    {
      "cell_type": "code",
      "metadata": {
        "id": "rx2EI5aQsELq",
        "colab": {
          "base_uri": "https://localhost:8080/"
        },
        "outputId": "796e44bb-b25d-4a52-ebf3-f4f7a1584efb"
      },
      "source": [
        "#USER INPUT\n",
        "name = input(\"Enter Your name : \")\n",
        "age = input(\"Emter Your Age : \")\n",
        "gpa = input(\"Enter your GPA : \")\n",
        "\n",
        "print(\"-----------------------------\")\n",
        "\n",
        "print(\"Name : \"+name)\n",
        "print(\"Age : \"+age)\n",
        "print(\"GPA : \"+gpa)"
      ],
      "execution_count": null,
      "outputs": [
        {
          "output_type": "stream",
          "text": [
            "Enter Your name : Asadullah Al Imran\n",
            "Emter Your Age : 21\n",
            "Enter your GPA : 3.65\n",
            "-----------------------------\n",
            "Name : Asadullah Al Imran\n",
            "Age : 21\n",
            "GPA : 3.65\n"
          ],
          "name": "stdout"
        }
      ]
    },
    {
      "cell_type": "code",
      "metadata": {
        "colab": {
          "base_uri": "https://localhost:8080/"
        },
        "id": "2-98KXt4ulWT",
        "outputId": "5d0bb927-2061-4a13-f579-f13c90485fe2"
      },
      "source": [
        "#TYPE CASTING\n",
        "\n",
        "num1 = int(input(\"Enter the furst number : \"))\n",
        "num2 = int(input(\"Enter the second number : \"))\n",
        "\n",
        "result = num1 + num2\n",
        "print(\"The result is : \",result)\n",
        "print(\"\\n\")\n",
        "\n",
        "result = num1 - num2\n",
        "print(\"The result is : \",result)\n",
        "print(\"\\n\")\n",
        "\n",
        "result = num1 * num2\n",
        "print(\"The result is : \",result)\n",
        "print(\"\\n\")\n",
        "\n",
        "result = num1 / num2\n",
        "print(\"The result is : \",result)\n",
        "print(\"\\n\")\n",
        "\n",
        "result = num1 % num2\n",
        "print(\"The result is : \",result)\n",
        "print(\"\\n\")\n",
        "\n"
      ],
      "execution_count": null,
      "outputs": [
        {
          "output_type": "stream",
          "text": [
            "Enter the furst number : 203\n",
            "Enter the second number : 12\n",
            "The result is :  215\n",
            "\n",
            "\n",
            "The result is :  191\n",
            "\n",
            "\n",
            "The result is :  2436\n",
            "\n",
            "\n",
            "The result is :  16.916666666666668\n",
            "\n",
            "\n",
            "The result is :  11\n",
            "\n",
            "\n"
          ],
          "name": "stdout"
        }
      ]
    },
    {
      "cell_type": "code",
      "metadata": {
        "id": "ksaxgZ75ylfh",
        "colab": {
          "base_uri": "https://localhost:8080/"
        },
        "outputId": "4f0a53d1-a1fd-42b4-8884-a911dea76bf5"
      },
      "source": [
        "#Mathematical function in Python\n",
        "\n",
        "a = 45.34\n",
        "b = 65.83\n",
        "\n",
        "from math import *\n",
        "print(max(20,21))\n",
        "print(min(23,41))\n",
        "print(abs(-5))\n",
        "print(sqrt(25))\n",
        "print(pow(2,5))\n",
        "print(round(6.7))\n",
        "print(round(3.5))\n",
        "print(floor(9.3))\n",
        "print(ceil(7.3))\n",
        "\n",
        "print(floor(a))\n",
        "print(ceil(a))\n",
        "print(max(a,b))\n",
        "print(max(b,a))\n",
        "print(abs(a))\n",
        "print(sqrt(a))"
      ],
      "execution_count": 20,
      "outputs": [
        {
          "output_type": "stream",
          "text": [
            "21\n",
            "23\n",
            "5\n",
            "5.0\n",
            "32.0\n",
            "7\n",
            "4\n",
            "9\n",
            "8\n",
            "45\n",
            "46\n",
            "65.83\n",
            "65.83\n",
            "45.34\n",
            "6.73349834781297\n"
          ],
          "name": "stdout"
        }
      ]
    },
    {
      "cell_type": "code",
      "metadata": {
        "colab": {
          "base_uri": "https://localhost:8080/"
        },
        "id": "1Qqq1Zlht8UD",
        "outputId": "b13895c7-b2a1-46c4-b8e1-5ef82f260e16"
      },
      "source": [
        "#FORMATING STRING AND TYPE FUnCTION\n",
        "\n",
        "num = 20\n",
        "print(type(num))\n",
        "\n",
        "num2 = 34.56\n",
        "print(type(num2))\n",
        "\n",
        "num3 = 43.436564589456\n",
        "print(type(num3))\n",
        "\n",
        "string = \"Asadullah Al Imran\"\n",
        "print(type(string))"
      ],
      "execution_count": 26,
      "outputs": [
        {
          "output_type": "stream",
          "text": [
            "<class 'int'>\n",
            "<class 'float'>\n",
            "<class 'float'>\n",
            "<class 'str'>\n"
          ],
          "name": "stdout"
        }
      ]
    },
    {
      "cell_type": "code",
      "metadata": {
        "colab": {
          "base_uri": "https://localhost:8080/"
        },
        "id": "MO54DQT235aR",
        "outputId": "76ab3ae4-5a29-4eb9-8425-b3815d414740"
      },
      "source": [
        "num = 20\n",
        "num2 = 34\n",
        "\n",
        "sum = num + num2\n",
        "\n",
        "print(f\"{num} + {num2} = {sum}\")"
      ],
      "execution_count": 28,
      "outputs": [
        {
          "output_type": "stream",
          "text": [
            "20 + 34 = 54\n"
          ],
          "name": "stdout"
        }
      ]
    }
  ]
}