{
  "nbformat": 4,
  "nbformat_minor": 0,
  "metadata": {
    "colab": {
      "name": "OopWithPython.ipynb",
      "provenance": [],
      "authorship_tag": "ABX9TyOUfhbN1AzAGXBOlBeO3qr0",
      "include_colab_link": true
    },
    "kernelspec": {
      "name": "python3",
      "display_name": "Python 3"
    }
  },
  "cells": [
    {
      "cell_type": "markdown",
      "metadata": {
        "id": "view-in-github",
        "colab_type": "text"
      },
      "source": [
        "<a href=\"https://colab.research.google.com/github/asadullah00alimran/LearnPython/blob/main/OopWithPython.ipynb\" target=\"_parent\"><img src=\"https://colab.research.google.com/assets/colab-badge.svg\" alt=\"Open In Colab\"/></a>"
      ]
    },
    {
      "cell_type": "code",
      "metadata": {
        "colab": {
          "base_uri": "https://localhost:8080/"
        },
        "id": "xB8zF5ka25lt",
        "outputId": "6ce6d8dc-9dee-49fc-fdd5-ad6bd2fbd24d"
      },
      "source": [
        "class Animal:\n",
        "     color=\"\"\n",
        "     leg=\"\"\n",
        "\n",
        "Dog =Animal()\n",
        "Dog.color=\"Black\"\n",
        "Dog.leg= 4\n",
        "print(f\"color:{Dog.color},leg:{Dog.leg}\")\n",
        "\n",
        "Hen =Animal()\n",
        "Hen.color='White'\n",
        "Hen.leg= 2\n",
        "print(f\"color:{Hen.color},leg:{Hen.leg}\")"
      ],
      "execution_count": 1,
      "outputs": [
        {
          "output_type": "stream",
          "text": [
            "color:Black,leg:4\n",
            "color:White,leg:2\n"
          ],
          "name": "stdout"
        }
      ]
    }
  ]
}