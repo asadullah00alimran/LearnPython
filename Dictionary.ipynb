{
  "nbformat": 4,
  "nbformat_minor": 0,
  "metadata": {
    "colab": {
      "name": "Dictionary.ipynb",
      "provenance": [],
      "authorship_tag": "ABX9TyPK61s5aFAkeGh/px/roMIn",
      "include_colab_link": true
    },
    "kernelspec": {
      "name": "python3",
      "display_name": "Python 3"
    }
  },
  "cells": [
    {
      "cell_type": "markdown",
      "metadata": {
        "id": "view-in-github",
        "colab_type": "text"
      },
      "source": [
        "<a href=\"https://colab.research.google.com/github/asadullah00alimran/LearnPython/blob/main/Dictionary.ipynb\" target=\"_parent\"><img src=\"https://colab.research.google.com/assets/colab-badge.svg\" alt=\"Open In Colab\"/></a>"
      ]
    },
    {
      "cell_type": "code",
      "metadata": {
        "colab": {
          "base_uri": "https://localhost:8080/"
        },
        "id": "Q6hSUKBm0n50",
        "outputId": "43b279f8-a825-4f13-ddc2-367a05dd59a7"
      },
      "source": [
        "Dict={\n",
        "    \"key1\":\"1\",\n",
        "    \"home\":\"barishal\",\n",
        "    \"name\":\"Imran\",\n",
        "    \"semester\":\"6th\",\n",
        "    \"Id\":\"191-15-12981\",\n",
        "     \"Year\":2020\n",
        "\n",
        "}\n",
        "print(Dict)\n",
        "\n",
        "a=Dict[\"Year\"]\n",
        "b=Dict.get(\"Dept\")        #GET\n",
        "\n",
        "print(a)\n",
        "print(b)\n"
      ],
      "execution_count": null,
      "outputs": [
        {
          "output_type": "stream",
          "text": [
            "{'key1': '1', 'home': 'barishal', 'name': 'Imran', 'semester': '6th', 'Id': '191-15-12981', 'Year': 2020}\n",
            "2020\n",
            "None\n"
          ],
          "name": "stdout"
        }
      ]
    },
    {
      "cell_type": "code",
      "metadata": {
        "colab": {
          "base_uri": "https://localhost:8080/"
        },
        "id": "xVOYwTkv1QIr",
        "outputId": "84660b47-36c5-461b-e5f7-96dc4e17e19f"
      },
      "source": [
        "Dict[\"Name\"]=\"Asadullah Al Imran\"      #Update_name\n",
        "\n",
        "print(Dict)"
      ],
      "execution_count": null,
      "outputs": [
        {
          "output_type": "stream",
          "text": [
            "{'key1': '1', 'home': 'barishal', 'name': 'Imran', 'semester': '6th', 'Id': '191-15-12981', 'Year': 2020, 'Name': 'Asadullah Al Imran'}\n"
          ],
          "name": "stdout"
        }
      ]
    },
    {
      "cell_type": "code",
      "metadata": {
        "colab": {
          "base_uri": "https://localhost:8080/"
        },
        "id": "UwE6ssYT1fjU",
        "outputId": "e2203775-cb4b-413a-95f8-977e16d94388"
      },
      "source": [
        "Dict[\"Name\"]=\"Asadullah\"      #Update_name\n",
        "\n",
        "print(Dict)"
      ],
      "execution_count": null,
      "outputs": [
        {
          "output_type": "stream",
          "text": [
            "{'key1': '1', 'home': 'barishal', 'name': 'Imran', 'semester': '6th', 'Id': '191-15-12981', 'Year': 2020, 'Name': 'Asadullah'}\n"
          ],
          "name": "stdout"
        }
      ]
    },
    {
      "cell_type": "code",
      "metadata": {
        "colab": {
          "base_uri": "https://localhost:8080/"
        },
        "id": "kb3F4Ra2130P",
        "outputId": "44228570-e96e-4f9b-b6a1-2106c2a9e274"
      },
      "source": [
        "for x in Dict.values():       #print_data\n",
        "  print(x)"
      ],
      "execution_count": null,
      "outputs": [
        {
          "output_type": "stream",
          "text": [
            "1\n",
            "barishal\n",
            "Imran\n",
            "6th\n",
            "191-15-12981\n",
            "2020\n",
            "Asadullah\n"
          ],
          "name": "stdout"
        }
      ]
    },
    {
      "cell_type": "code",
      "metadata": {
        "colab": {
          "base_uri": "https://localhost:8080/"
        },
        "id": "PpBYRbc0177A",
        "outputId": "5e8e34d5-6981-4a69-f2ac-e2fbe3d7db82"
      },
      "source": [
        "for x,y in Dict.items():      #print data & veriables\n",
        "  print(x,':',y)"
      ],
      "execution_count": null,
      "outputs": [
        {
          "output_type": "stream",
          "text": [
            "key1 : 1\n",
            "home : barishal\n",
            "name : Imran\n",
            "semester : 6th\n",
            "Id : 191-15-12981\n",
            "Year : 2020\n",
            "Name : Asadullah\n"
          ],
          "name": "stdout"
        }
      ]
    },
    {
      "cell_type": "code",
      "metadata": {
        "colab": {
          "base_uri": "https://localhost:8080/"
        },
        "id": "xQFDxv3_1_lc",
        "outputId": "14d7966a-2ca2-4181-a4e5-4621ac419443"
      },
      "source": [
        "a=len(Dict)                  #length\n",
        "print(a)"
      ],
      "execution_count": null,
      "outputs": [
        {
          "output_type": "stream",
          "text": [
            "7\n"
          ],
          "name": "stdout"
        }
      ]
    },
    {
      "cell_type": "code",
      "metadata": {
        "colab": {
          "base_uri": "https://localhost:8080/"
        },
        "id": "uUC2C8ey2DJN",
        "outputId": "dceb4ba2-edf3-44e3-d107-60eb3d6cefc3"
      },
      "source": [
        "Dict['Level']= 2             #Add\n",
        "Dict['Term']= 3\n",
        "\n",
        "print(Dict)\n"
      ],
      "execution_count": null,
      "outputs": [
        {
          "output_type": "stream",
          "text": [
            "{'key1': '1', 'home': 'barishal', 'name': 'Imran', 'semester': '6th', 'Id': '191-15-12981', 'Year': 2020, 'Name': 'Asadullah', 'Level': 2, 'Term': 3}\n"
          ],
          "name": "stdout"
        }
      ]
    },
    {
      "cell_type": "code",
      "metadata": {
        "colab": {
          "base_uri": "https://localhost:8080/"
        },
        "id": "xuezEMDk2H5d",
        "outputId": "ca3dc1d3-d538-4326-bebd-060ad6ed6c53"
      },
      "source": [
        "Dict.pop('Term')              #Pop\n",
        "print(Dict)"
      ],
      "execution_count": null,
      "outputs": [
        {
          "output_type": "stream",
          "text": [
            "{'key1': '1', 'home': 'barishal', 'name': 'Imran', 'semester': '6th', 'Id': '191-15-12981', 'Year': 2020, 'Name': 'Asadullah', 'Level': 2}\n"
          ],
          "name": "stdout"
        }
      ]
    },
    {
      "cell_type": "code",
      "metadata": {
        "colab": {
          "base_uri": "https://localhost:8080/"
        },
        "id": "0Y6ycY4I2KYx",
        "outputId": "b75e234d-d3ef-44f3-e386-e79c8e4887cb"
      },
      "source": [
        "Dict.popitem()               \n",
        "print(Dict)"
      ],
      "execution_count": null,
      "outputs": [
        {
          "output_type": "stream",
          "text": [
            "{'key1': '1', 'home': 'barishal', 'name': 'Imran', 'semester': '6th', 'Id': '191-15-12981', 'Year': 2020, 'Name': 'Asadullah'}\n"
          ],
          "name": "stdout"
        }
      ]
    },
    {
      "cell_type": "code",
      "metadata": {
        "colab": {
          "base_uri": "https://localhost:8080/"
        },
        "id": "C7sev8At2NBQ",
        "outputId": "149bb3e8-c1ac-42d5-e396-d9a0f7106e19"
      },
      "source": [
        "del Dict['Year']\n",
        "print(Dict)"
      ],
      "execution_count": null,
      "outputs": [
        {
          "output_type": "stream",
          "text": [
            "{'key1': '1', 'home': 'barishal', 'name': 'Imran', 'semester': '6th', 'Id': '191-15-12981', 'Name': 'Asadullah'}\n"
          ],
          "name": "stdout"
        }
      ]
    },
    {
      "cell_type": "code",
      "metadata": {
        "colab": {
          "base_uri": "https://localhost:8080/"
        },
        "id": "PP7-hS202P5p",
        "outputId": "47c7b321-a8e5-4305-f840-fb409b845be5"
      },
      "source": [
        "Dict1={\n",
        "    \"Key1\":1,\n",
        "    \"Name\":'Imran',\n",
        "    \"Dept\":'Cse',\n",
        "    \"ID\"  :'191-15-12981',\n",
        "    \"Year\":2020\n",
        "}\n",
        "Dict1.clear()\n",
        "print(Dict1)"
      ],
      "execution_count": null,
      "outputs": [
        {
          "output_type": "stream",
          "text": [
            "{}\n"
          ],
          "name": "stdout"
        }
      ]
    },
    {
      "cell_type": "code",
      "metadata": {
        "colab": {
          "base_uri": "https://localhost:8080/"
        },
        "id": "t_vWIAA_2aUe",
        "outputId": "bd383829-2884-4a17-995a-3eb8462bf226"
      },
      "source": [
        "Dict2={\n",
        "    \"Key1\":1,\n",
        "    \"Name\":'Imran',\n",
        "    \"Dept\":'Cse',\n",
        "    \"ID\"  :'191-15-12981',\n",
        "    \"Year\":2020\n",
        "}\n",
        "\n",
        "a=Dict2.copy()                  #Copy\n",
        "print(a)\n",
        "\n"
      ],
      "execution_count": null,
      "outputs": [
        {
          "output_type": "stream",
          "text": [
            "{'Key1': 1, 'Name': 'Imran', 'Dept': 'Cse', 'ID': '191-15-12981', 'Year': 2020}\n"
          ],
          "name": "stdout"
        }
      ]
    }
  ]
}