{
  "nbformat": 4,
  "nbformat_minor": 0,
  "metadata": {
    "colab": {
      "name": "Dictionary.ipynb",
      "provenance": [],
      "authorship_tag": "ABX9TyMR2ortppTVY+jeuRpuxq3U",
      "include_colab_link": true
    },
    "kernelspec": {
      "name": "python3",
      "display_name": "Python 3"
    }
  },
  "cells": [
    {
      "cell_type": "markdown",
      "metadata": {
        "id": "view-in-github",
        "colab_type": "text"
      },
      "source": [
        "<a href=\"https://colab.research.google.com/github/asadullah00alimran/LearnPython/blob/main/Dictionary.ipynb\" target=\"_parent\"><img src=\"https://colab.research.google.com/assets/colab-badge.svg\" alt=\"Open In Colab\"/></a>"
      ]
    },
    {
      "cell_type": "code",
      "metadata": {
        "id": "yF-SP2gmFnT3",
        "outputId": "3cd694b8-9e40-4f71-bcad-1e09e5147ea1",
        "colab": {
          "base_uri": "https://localhost:8080/"
        }
      },
      "source": [
        "theDict ={\n",
        "    \"name\" : \"Asadullah Al Imran\",\n",
        "    \"id\" : \"191-15-12981\",\n",
        "    \"department\" : \"CSE\",\n",
        "    \"homeTown\" : \"Barishal\",\n",
        "    \"currentCity\" : \"Barishal\",\n",
        "    \"year\" : 2020\n",
        "    \n",
        "}\n",
        "\n",
        "print(theDict)\n",
        "\n",
        "a = theDict[\"name\"]\n",
        "c = theDict.get(\"id\")\n",
        "\n",
        "print(a)\n",
        "print(c)"
      ],
      "execution_count": null,
      "outputs": [
        {
          "output_type": "stream",
          "text": [
            "{'name': 'Asadullah Al Imran', 'id': '191-15-12981', 'department': 'CSE', 'homeTown': 'Barishal', 'currentCity': 'Barishal', 'year': 2020}\n",
            "Asadullah Al Imran\n",
            "191-15-12981\n"
          ],
          "name": "stdout"
        }
      ]
    },
    {
      "cell_type": "code",
      "metadata": {
        "id": "EV6qecLZUjuQ",
        "outputId": "d80a18b2-aeb7-4969-d9ef-46debebfb40b",
        "colab": {
          "base_uri": "https://localhost:8080/"
        }
      },
      "source": [
        "theDict[\"currentCity\"] = \"Dhaka\"\n",
        "print(theDict)"
      ],
      "execution_count": null,
      "outputs": [
        {
          "output_type": "stream",
          "text": [
            "{'name': 'Asadullah Al Imran', 'id': '191-15-12981', 'department': 'CSE', 'homeTown': 'Barishal', 'currentCity': 'Dhaka', 'year': 2020}\n"
          ],
          "name": "stdout"
        }
      ]
    },
    {
      "cell_type": "code",
      "metadata": {
        "id": "4uRfy-oEIu10",
        "outputId": "9b8fcf17-9bf9-491b-b618-b52f5ae52c73",
        "colab": {
          "base_uri": "https://localhost:8080/"
        }
      },
      "source": [
        "for x in theDict:\n",
        "  print(x)\n"
      ],
      "execution_count": null,
      "outputs": [
        {
          "output_type": "stream",
          "text": [
            "name\n",
            "id\n",
            "department\n",
            "homeTown\n",
            "currrentCity\n",
            "year\n",
            "currentCity\n"
          ],
          "name": "stdout"
        }
      ]
    },
    {
      "cell_type": "code",
      "metadata": {
        "id": "VwHLjMf2M7J9",
        "outputId": "966ece2e-9f31-4d8e-8649-27c1339dd16a",
        "colab": {
          "base_uri": "https://localhost:8080/"
        }
      },
      "source": [
        "for x in theDict:\n",
        "  print(x)\n",
        "  print(theDict[x])\n"
      ],
      "execution_count": null,
      "outputs": [
        {
          "output_type": "stream",
          "text": [
            "name\n",
            "Asadullah Al Imran\n",
            "id\n",
            "191-15-12981\n",
            "department\n",
            "CSE\n",
            "homeTown\n",
            "Barishal\n",
            "currrentCity\n",
            "Barishal\n",
            "year\n",
            "2020\n",
            "currentCity\n",
            "Dhaka\n"
          ],
          "name": "stdout"
        }
      ]
    },
    {
      "cell_type": "code",
      "metadata": {
        "id": "ekIY7iDIPO7I",
        "outputId": "abe3e033-e093-4b60-9979-c9fafe5d830e",
        "colab": {
          "base_uri": "https://localhost:8080/"
        }
      },
      "source": [
        "for x in theDict.values():\n",
        "  print(x)"
      ],
      "execution_count": null,
      "outputs": [
        {
          "output_type": "stream",
          "text": [
            "Asadullah Al Imran\n",
            "191-15-12981\n",
            "CSE\n",
            "Barishal\n",
            "Barishal\n",
            "2020\n",
            "Dhaka\n"
          ],
          "name": "stdout"
        }
      ]
    },
    {
      "cell_type": "code",
      "metadata": {
        "id": "wFmmEtG2PbfY",
        "outputId": "a6bd36ba-6c63-4301-a218-99ec09d3b5ef",
        "colab": {
          "base_uri": "https://localhost:8080/"
        }
      },
      "source": [
        "for a,b in theDict.items():\n",
        "  print(a,b)"
      ],
      "execution_count": null,
      "outputs": [
        {
          "output_type": "stream",
          "text": [
            "name Asadullah Al Imran\n",
            "id 191-15-12981\n",
            "department CSE\n",
            "homeTown Barishal\n",
            "currrentCity Barishal\n",
            "year 2020\n",
            "currentCity Dhaka\n"
          ],
          "name": "stdout"
        }
      ]
    },
    {
      "cell_type": "code",
      "metadata": {
        "id": "aj-_Ed-oQKqB",
        "outputId": "00306bad-8f1f-485a-e976-21156cfd01a3",
        "colab": {
          "base_uri": "https://localhost:8080/"
        }
      },
      "source": [
        "if \"Dhaka\" in theDict.values():\n",
        "  print(\"yes\")\n",
        "\n",
        "if \"currentCity\" in theDict:\n",
        "  print(\"Barishal\")\n",
        "\n",
        "if \"year\" and 2020 in theDict.items():\n",
        "  print(\"2020\")"
      ],
      "execution_count": null,
      "outputs": [
        {
          "output_type": "stream",
          "text": [
            "yes\n",
            "Barishal\n"
          ],
          "name": "stdout"
        }
      ]
    },
    {
      "cell_type": "code",
      "metadata": {
        "id": "aB8SjSOBTCxc",
        "outputId": "461837e2-b1b7-46f5-ed2b-bf49c0c0cf91",
        "colab": {
          "base_uri": "https://localhost:8080/"
        }
      },
      "source": [
        "print(len(theDict))"
      ],
      "execution_count": null,
      "outputs": [
        {
          "output_type": "stream",
          "text": [
            "7\n"
          ],
          "name": "stdout"
        }
      ]
    },
    {
      "cell_type": "code",
      "metadata": {
        "id": "P41SRJ9gU_12"
      },
      "source": [
        ""
      ],
      "execution_count": null,
      "outputs": []
    }
  ]
}