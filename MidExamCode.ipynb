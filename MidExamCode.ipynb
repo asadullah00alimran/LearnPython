{
  "nbformat": 4,
  "nbformat_minor": 0,
  "metadata": {
    "colab": {
      "name": "MidExamCode.ipynb",
      "provenance": [],
      "authorship_tag": "ABX9TyMPGiNHYW1GV7wdz/dsz6op",
      "include_colab_link": true
    },
    "kernelspec": {
      "name": "python3",
      "display_name": "Python 3"
    }
  },
  "cells": [
    {
      "cell_type": "markdown",
      "metadata": {
        "id": "view-in-github",
        "colab_type": "text"
      },
      "source": [
        "<a href=\"https://colab.research.google.com/github/asadullah00alimran/LearnPython/blob/main/MidExamCode.ipynb\" target=\"_parent\"><img src=\"https://colab.research.google.com/assets/colab-badge.svg\" alt=\"Open In Colab\"/></a>"
      ]
    },
    {
      "cell_type": "code",
      "metadata": {
        "id": "41yYruYdAeGT",
        "colab": {
          "base_uri": "https://localhost:8080/"
        },
        "outputId": "553c33b8-9a70-46bb-e12f-67d3dc5eb7d9"
      },
      "source": [
        "#Answer to the Question NO. 4\n",
        "\n",
        "a=int(input(\"Number of wins:\"))\n",
        "b=int(input(\"Number of draws:\"))\n",
        "c=int(input(\"Number of Losses:\"))\n",
        "\n",
        "def football_points(a,b,c):\n",
        "  Total_Point=a*3+b*1+c*0\n",
        "  print(\"football_points :\",Total_Point)\n",
        "\n",
        "football_points(a,b,c)"
      ],
      "execution_count": null,
      "outputs": [
        {
          "output_type": "stream",
          "text": [
            "Number of wins:3\n",
            "Number of draws:4\n",
            "Number of Losses:1\n",
            "football_points : 13\n"
          ],
          "name": "stdout"
        }
      ]
    },
    {
      "cell_type": "code",
      "metadata": {
        "id": "B_2SlS3CGmYH"
      },
      "source": [
        "#Answer to the Question No. 1\n",
        "\n"
      ],
      "execution_count": null,
      "outputs": []
    },
    {
      "cell_type": "code",
      "metadata": {
        "id": "wuCJo_1KBLHW",
        "colab": {
          "base_uri": "https://localhost:8080/"
        },
        "outputId": "06f25871-a778-45e3-f0ba-74e556d6691f"
      },
      "source": [
        "\n",
        "#Answer to the Question No. 3\n",
        "\n",
        "def fruits(all_fruits):\n",
        "    print(all_fruits)\n",
        "\n",
        "\n",
        "def fast_food(all_fast_food):\n",
        "    print(all_fast_food)\n",
        "\n",
        "\n",
        "foods = ['sandwich','apple','burger','banana','cherry','mango','nuggets']\n",
        "fast_food_list = []\n",
        "fruits_list = []\n",
        "\n",
        "\n",
        "for food in foods:\n",
        "    if (food == 'sandwich' or food == 'burger' or food == 'nuggets'):\n",
        "        fast_food_list.append(food)\n",
        "\n",
        "    else:\n",
        "        fruits_list.append(food)\n",
        "\n",
        "\n",
        "fruits(fruits_list)\n",
        "fast_food(fast_food_list)"
      ],
      "execution_count": null,
      "outputs": [
        {
          "output_type": "stream",
          "text": [
            "['apple', 'banana', 'cherry', 'mango']\n",
            "['sandwich', 'burger', 'nuggets']\n"
          ],
          "name": "stdout"
        }
      ]
    },
    {
      "cell_type": "code",
      "metadata": {
        "id": "GKZvtBEATVQ3",
        "colab": {
          "base_uri": "https://localhost:8080/"
        },
        "outputId": "fd13d4f4-2446-4df6-ecc2-b79ed47ea6f2"
      },
      "source": [
        "string = 'abcdefghijk'\n",
        "print(string)\n",
        "print(string[5])"
      ],
      "execution_count": null,
      "outputs": [
        {
          "output_type": "stream",
          "text": [
            "abcdefghijk\n",
            "f\n"
          ],
          "name": "stdout"
        }
      ]
    },
    {
      "cell_type": "code",
      "metadata": {
        "id": "2nSOGYdzWa7o",
        "colab": {
          "base_uri": "https://localhost:8080/"
        },
        "outputId": "75cb40d8-cc8b-44b5-eda8-996a85295325"
      },
      "source": [
        "\n",
        "deposit= float(input(\"Enter the total Cash\"))\n",
        "bus=[]\n",
        "# number of elemetns as input \n",
        "n = int(input(\"Enter number of bus ticket : \")) \n",
        "  \n",
        "# iterating\n",
        "print(\"enter the bus ticket cost\")\n",
        "for i in range(0, n): \n",
        "    ele = float(input()) \n",
        "  \n",
        "    bus.append(ele) # adding the element\n",
        "totalbuscost= sum(bus)\n",
        "ship=[]\n",
        "\n",
        "# number of elemetns as input \n",
        "n = int(input(\"Enter number of ship ticket : \")) \n",
        "  \n",
        "# iterating\n",
        "print(\"enter the ship ticket cost\")\n",
        "for i in range(0, n): \n",
        "    ele = float(input()) \n",
        "  \n",
        "    ship.append(ele) # adding the element\n",
        "totalshipcost= sum(ship)\n",
        "snaks=[]\n",
        "# number of elemetns as input \n",
        "n = int(input(\"Enter number of snaks item you choose  : \")) \n",
        "  \n",
        "# iterating\n",
        "print(\"enter the ship snaks cost\")\n",
        "for i in range(0, n): \n",
        "    ele = float(input()) \n",
        "  \n",
        "    snaks.append(ele) # adding the element\n",
        "totalsnakscost= sum(snaks)\n",
        "print(\"enter the hotel bill and 3 meals of lunch brakfast and dinner cost\")\n",
        "ttlcost=float(input())\n",
        "finalcost=ttlcost*3 #next two days cost\n",
        "\n",
        "total_cost= totalbuscost+totalshipcost+totalsnakscost+finalcost\n",
        "\n",
        "\n",
        "\n",
        " \n",
        "\n",
        "cash_in_hand= deposit-total_cost\n",
        "\n",
        "print(\"Bus tickets cost: \",bus)\n",
        "print(\"Ship tickets cost: \",ship)\n",
        "print(\"Snaks cost: \",snaks)\n",
        "print(\"Total cost of hotel and lunch dinner and breakfast: \",finalcost)\n",
        "print(\"Total cost: \",total_cost)\n",
        "print(\"cash in hand\",cash_in_hand)"
      ],
      "execution_count": null,
      "outputs": [
        {
          "output_type": "stream",
          "text": [
            "Enter the total Cash20000\n",
            "Enter number of bus ticket : 5\n",
            "enter the bus ticket cost\n",
            "500\n",
            "00\n",
            "500\n",
            "1000\n",
            "500\n",
            "Enter number of ship ticket : 5\n",
            "enter the ship ticket cost\n",
            "50\n",
            "50\n",
            "50\n",
            "50\n",
            "50\n",
            "Enter number of snaks item you choose  : 2\n",
            "enter the ship snaks cost\n",
            "230\n",
            "590\n",
            "enter the hotel bill and 3 meals of lunch brakfast and dinner cost\n",
            "9876\n",
            "Bus tickets cost:  [500.0, 0.0, 500.0, 1000.0, 500.0]\n",
            "Ship tickets cost:  [50.0, 50.0, 50.0, 50.0, 50.0]\n",
            "Snaks cost:  [230.0, 590.0]\n",
            "Total cost of hotel and lunch dinner and breakfast:  29628.0\n",
            "Total cost:  33198.0\n",
            "cash in hand -13198.0\n"
          ],
          "name": "stdout"
        }
      ]
    }
  ]
}