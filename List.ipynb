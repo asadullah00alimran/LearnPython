{
  "nbformat": 4,
  "nbformat_minor": 0,
  "metadata": {
    "colab": {
      "name": "List.ipynb",
      "provenance": [],
      "authorship_tag": "ABX9TyMOysaTgN5OzIQD2J0RVh2P",
      "include_colab_link": true
    },
    "kernelspec": {
      "name": "python3",
      "display_name": "Python 3"
    }
  },
  "cells": [
    {
      "cell_type": "markdown",
      "metadata": {
        "id": "view-in-github",
        "colab_type": "text"
      },
      "source": [
        "<a href=\"https://colab.research.google.com/github/asadullah00alimran/LearnPython/blob/main/List.ipynb\" target=\"_parent\"><img src=\"https://colab.research.google.com/assets/colab-badge.svg\" alt=\"Open In Colab\"/></a>"
      ]
    },
    {
      "cell_type": "code",
      "metadata": {
        "colab": {
          "base_uri": "https://localhost:8080/"
        },
        "id": "bSftY_4UyUK1",
        "outputId": "7ce57367-49ad-459a-c82e-0e32fde9f57c"
      },
      "source": [
        "list=['I','am','Asadullah','Al','Imran']\n",
        "\n",
        "print(list)\n",
        "print(list[3])\n",
        "print(list[1:])\n",
        "print(list[-3:])\n"
      ],
      "execution_count": null,
      "outputs": [
        {
          "output_type": "stream",
          "text": [
            "['I', 'am', 'Asadullah', 'Al', 'Imran']\n",
            "Al\n",
            "['am', 'Asadullah', 'Al', 'Imran']\n",
            "['Asadullah', 'Al', 'Imran']\n"
          ],
          "name": "stdout"
        }
      ]
    },
    {
      "cell_type": "code",
      "metadata": {
        "colab": {
          "base_uri": "https://localhost:8080/"
        },
        "id": "FHvUptwByrL4",
        "outputId": "e10d4720-4126-435d-e28c-201d66fb4d84"
      },
      "source": [
        "list=['I','am','Asadullah','Al','Imran']\n",
        "\n",
        "print((list)+['21','CSE','191-15-12981']) #Temporary_add\n",
        "print(list)\n",
        "print(list*2)  \n"
      ],
      "execution_count": null,
      "outputs": [
        {
          "output_type": "stream",
          "text": [
            "['I', 'am', 'Asadullah', 'Al', 'Imran', '21', 'CSE', '191-15-12981']\n",
            "['I', 'am', 'Asadullah', 'Al', 'Imran']\n",
            "['I', 'am', 'Asadullah', 'Al', 'Imran', 'I', 'am', 'Asadullah', 'Al', 'Imran']\n"
          ],
          "name": "stdout"
        }
      ]
    },
    {
      "cell_type": "code",
      "metadata": {
        "colab": {
          "base_uri": "https://localhost:8080/"
        },
        "id": "d5g9OxIPy5vs",
        "outputId": "2016b736-762a-4142-aeff-3b0d68f1b704"
      },
      "source": [
        "list=['I','am','Asadullah','Al','Imran']\n",
        "\n",
        "print('Asadullah' in list)         #Search\n",
        "\n",
        "print(len(list))                #length\n",
        "\n",
        "list.append('Cse')              #Add_one_element\n",
        "print(list)\n",
        "\n",
        "list.append('191-15-12982')     #Add_one_element\n",
        "print(list)\n",
        "\n",
        "list.insert(0,'Hello')          #Insert_elements_in_postion\n",
        "print(list)\n",
        "\n",
        "list.remove('Cse')              #Remove\n",
        "print(list)"
      ],
      "execution_count": null,
      "outputs": [
        {
          "output_type": "stream",
          "text": [
            "True\n",
            "5\n",
            "['I', 'am', 'Asadullah', 'Al', 'Imran', 'Cse']\n",
            "['I', 'am', 'Asadullah', 'Al', 'Imran', 'Cse', '191-15-12982']\n",
            "['Hello', 'I', 'am', 'Asadullah', 'Al', 'Imran', 'Cse', '191-15-12982']\n",
            "['Hello', 'I', 'am', 'Asadullah', 'Al', 'Imran', '191-15-12982']\n"
          ],
          "name": "stdout"
        }
      ]
    },
    {
      "cell_type": "code",
      "metadata": {
        "colab": {
          "base_uri": "https://localhost:8080/"
        },
        "id": "4J__jCBBzRnh",
        "outputId": "d6a4f34d-ec44-4ea7-bbc7-d7b3d6245e22"
      },
      "source": [
        "list=['I','am','Asadullah','Al','Imran']\n",
        "\n",
        "list.clear()                    #all_clear\n",
        "print(list)\n"
      ],
      "execution_count": null,
      "outputs": [
        {
          "output_type": "stream",
          "text": [
            "[]\n"
          ],
          "name": "stdout"
        }
      ]
    },
    {
      "cell_type": "code",
      "metadata": {
        "colab": {
          "base_uri": "https://localhost:8080/"
        },
        "id": "9OHMJiqFzcD-",
        "outputId": "a5d166c7-0ccd-4806-8c2a-673525b945d4"
      },
      "source": [
        "num1=[1, 2, 3, 4, 5, 6, 7, 8, 9, 10,11]\n",
        "\n",
        "num1.pop()                       #Pop\n",
        "print(num1)"
      ],
      "execution_count": null,
      "outputs": [
        {
          "output_type": "stream",
          "text": [
            "[1, 2, 3, 4, 5, 6, 7, 8, 9, 10]\n"
          ],
          "name": "stdout"
        }
      ]
    },
    {
      "cell_type": "code",
      "metadata": {
        "colab": {
          "base_uri": "https://localhost:8080/"
        },
        "id": "jNhNZJCazhRo",
        "outputId": "e7b3bb0e-eedb-494a-8a89-874d00a10aa1"
      },
      "source": [
        "num2=[5,7,3,2,1,4,6,9,10,8,10]\n",
        "\n",
        "num2.sort()                     #Sorting\n",
        "print(num2)\n",
        "\n",
        "num2.reverse()                  #Reverse_sorting\n",
        "print(num2)\n"
      ],
      "execution_count": null,
      "outputs": [
        {
          "output_type": "stream",
          "text": [
            "[1, 2, 3, 4, 5, 6, 7, 8, 9, 10, 10]\n",
            "[10, 10, 9, 8, 7, 6, 5, 4, 3, 2, 1]\n"
          ],
          "name": "stdout"
        }
      ]
    },
    {
      "cell_type": "code",
      "metadata": {
        "colab": {
          "base_uri": "https://localhost:8080/"
        },
        "id": "-po-vIUQzm7o",
        "outputId": "7b50cdba-cdfc-4e32-b482-5bacb4ffcd2b"
      },
      "source": [
        "a=num2.copy()                   #Copy\n",
        "print(a)\n",
        "\n",
        "b=num2.index(2)                 #indexing\n",
        "print(b)\n",
        "\n",
        "print(num2.index(3))\n",
        "\n",
        "c=num2.count(10)                #Count\n",
        "print(c)"
      ],
      "execution_count": null,
      "outputs": [
        {
          "output_type": "stream",
          "text": [
            "[10, 10, 9, 8, 7, 6, 5, 4, 3, 2, 1]\n",
            "9\n",
            "8\n",
            "2\n"
          ],
          "name": "stdout"
        }
      ]
    },
    {
      "cell_type": "code",
      "metadata": {
        "colab": {
          "base_uri": "https://localhost:8080/"
        },
        "id": "9v4UXqUOzrP7",
        "outputId": "5ba3c5ec-50b0-4a35-ea8f-6b1061ed765b"
      },
      "source": [
        "n=input('Enter a text=')\n",
        "\n",
        "C=n.split()          \n",
        "print(C*7)"
      ],
      "execution_count": null,
      "outputs": [
        {
          "output_type": "stream",
          "text": [
            "Enter a text=Python\n",
            "['Python', 'Python', 'Python', 'Python', 'Python', 'Python', 'Python']\n"
          ],
          "name": "stdout"
        }
      ]
    },
    {
      "cell_type": "code",
      "metadata": {
        "colab": {
          "base_uri": "https://localhost:8080/"
        },
        "id": "cTMrgOiqz05K",
        "outputId": "624d77eb-d88d-46e7-81c2-903698b2a08c"
      },
      "source": [
        "#l=['A', 'C', 'A-', 'C+','A+', 'B+', 'A', 'B-', 'C', 'A+']\n",
        "\n",
        "for x in range(9):\n",
        "        grade = input(\"Enter grade for course: \" )\n",
        "        if grade == 'A':\n",
        "            grade = int(4)\n",
        "        if grade == 'B':\n",
        "            grade = int(3)\n",
        "        if grade == 'C':\n",
        "            grade = int(2)\n",
        "        if grade == 'D':\n",
        "            grade = int(1)\n",
        "        if grade == 'F':\n",
        "            grade = int(0)\n",
        "  \n",
        "print(grade)\n",
        "\n",
        "\n"
      ],
      "execution_count": null,
      "outputs": [
        {
          "output_type": "stream",
          "text": [
            "Enter grade for course: 4\n",
            "Enter grade for course: 2\n",
            "Enter grade for course: 3\n",
            "Enter grade for course: 3\n",
            "Enter grade for course: 2\n",
            "Enter grade for course: 1\n",
            "Enter grade for course: 5\n",
            "Enter grade for course: 3\n",
            "Enter grade for course: 3\n",
            "Enter grade for course: 4\n",
            "Enter grade for course: 5\n",
            "5\n"
          ],
          "name": "stdout"
        }
      ]
    }
  ]
}