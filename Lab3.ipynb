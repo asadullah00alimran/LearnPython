{
  "nbformat": 4,
  "nbformat_minor": 0,
  "metadata": {
    "colab": {
      "name": "Lab3.ipynb",
      "provenance": [],
      "authorship_tag": "ABX9TyPY+Nb+I8R0KxfvuiJ2qa2A",
      "include_colab_link": true
    },
    "kernelspec": {
      "name": "python3",
      "display_name": "Python 3"
    }
  },
  "cells": [
    {
      "cell_type": "markdown",
      "metadata": {
        "id": "view-in-github",
        "colab_type": "text"
      },
      "source": [
        "<a href=\"https://colab.research.google.com/github/asadullah00alimran/LearnPython/blob/main/Lab3.ipynb\" target=\"_parent\"><img src=\"https://colab.research.google.com/assets/colab-badge.svg\" alt=\"Open In Colab\"/></a>"
      ]
    },
    {
      "cell_type": "code",
      "metadata": {
        "id": "WvMijSn4_eYH",
        "outputId": "ad502903-381b-4b8b-cef4-8277498fb97b",
        "colab": {
          "base_uri": "https://localhost:8080/",
          "height": 34
        }
      },
      "source": [
        "mark = 24\n",
        "if mark>=33:\n",
        "  print(\"pass\")\n",
        "if mark==25:\n",
        "  print(\"equal\")\n",
        "else:\n",
        "  print(\"fail\")\n",
        "\n"
      ],
      "execution_count": 5,
      "outputs": [
        {
          "output_type": "stream",
          "text": [
            "fail\n"
          ],
          "name": "stdout"
        }
      ]
    },
    {
      "cell_type": "code",
      "metadata": {
        "id": "S_XwFfiB_kv3",
        "outputId": "9a52fe61-754f-4dc2-afe3-63726552a438",
        "colab": {
          "base_uri": "https://localhost:8080/",
          "height": 34
        }
      },
      "source": [
        "mark=76\n",
        "if mark>=80:\n",
        "  print(\"A+\")\n",
        "elif mark>=70:\n",
        "  print(\"B+\")\n",
        "elif mark >+60:\n",
        "  print(\"c\")\n",
        "else:\n",
        "  print(\"fail\")\n",
        "  "
      ],
      "execution_count": 4,
      "outputs": [
        {
          "output_type": "stream",
          "text": [
            "B+\n"
          ],
          "name": "stdout"
        }
      ]
    },
    {
      "cell_type": "code",
      "metadata": {
        "id": "Q5U7kMj9_pwx",
        "outputId": "07135fde-23ed-4186-d16d-0c05c3c37caf",
        "colab": {
          "base_uri": "https://localhost:8080/",
          "height": 34
        }
      },
      "source": [
        "mark = 77\n",
        "if mark >=80:\n",
        "  printf('a+')\n",
        "if mark>70:\n",
        "  if mark>=75:\n",
        "    print('B+')\n",
        "  else:\n",
        "    print (\"b\")\n",
        "else:\n",
        "  print('fail')"
      ],
      "execution_count": 6,
      "outputs": [
        {
          "output_type": "stream",
          "text": [
            "B+\n"
          ],
          "name": "stdout"
        }
      ]
    },
    {
      "cell_type": "code",
      "metadata": {
        "id": "QOiN6xqP_tAp",
        "outputId": "59614e49-d53c-4740-de13-323f0785a13c",
        "colab": {
          "base_uri": "https://localhost:8080/",
          "height": 34
        }
      },
      "source": [
        "num=1\n",
        "while (num<=10):\n",
        "  print (num, end=\" \")\n",
        "  num=num+1\n"
      ],
      "execution_count": 7,
      "outputs": [
        {
          "output_type": "stream",
          "text": [
            "1 2 3 4 5 6 7 8 9 10 "
          ],
          "name": "stdout"
        }
      ]
    },
    {
      "cell_type": "code",
      "metadata": {
        "id": "48e-5Jaf_wQO",
        "outputId": "3461846b-bcb1-4e8e-a2fa-c8d77aec6c2d",
        "colab": {
          "base_uri": "https://localhost:8080/",
          "height": 187
        }
      },
      "source": [
        "num = 5\n",
        "count = 1\n",
        "while (count<=10):\n",
        "  print(f\"{num} * {count} = {num*count}\")\n",
        "  count = count +1\n",
        "\n"
      ],
      "execution_count": 8,
      "outputs": [
        {
          "output_type": "stream",
          "text": [
            "5 * 1 = 5\n",
            "5 * 2 = 10\n",
            "5 * 3 = 15\n",
            "5 * 4 = 20\n",
            "5 * 5 = 25\n",
            "5 * 6 = 30\n",
            "5 * 7 = 35\n",
            "5 * 8 = 40\n",
            "5 * 9 = 45\n",
            "5 * 10 = 50\n"
          ],
          "name": "stdout"
        }
      ]
    },
    {
      "cell_type": "code",
      "metadata": {
        "id": "LuDWXBm0_y51",
        "outputId": "e7b886ec-7b44-490c-89a7-6a7a66ecc816",
        "colab": {
          "base_uri": "https://localhost:8080/",
          "height": 34
        }
      },
      "source": [
        "n=1\n",
        "result=0\n",
        "while (n<=10):\n",
        "  if (n==9):\n",
        "    n=n+1\n",
        "    continue\n",
        "  result = result + n\n",
        "  n=n+1\n",
        "print(result)\n"
      ],
      "execution_count": 9,
      "outputs": [
        {
          "output_type": "stream",
          "text": [
            "46\n"
          ],
          "name": "stdout"
        }
      ]
    },
    {
      "cell_type": "code",
      "metadata": {
        "id": "KbI8JSaUAuZE",
        "outputId": "1ce8dd99-1799-405e-872e-4f541c21d83c",
        "colab": {
          "base_uri": "https://localhost:8080/",
          "height": 51
        }
      },
      "source": [
        "for n in range(1,10,5):\n",
        "  print(n)"
      ],
      "execution_count": 10,
      "outputs": [
        {
          "output_type": "stream",
          "text": [
            "1\n",
            "6\n"
          ],
          "name": "stdout"
        }
      ]
    },
    {
      "cell_type": "code",
      "metadata": {
        "id": "tIV5o58yAzVv",
        "outputId": "be915fdb-441d-469e-f12a-9d10845ecd0c",
        "colab": {
          "base_uri": "https://localhost:8080/",
          "height": 34
        }
      },
      "source": [
        "for ch in \"Imran\":\n",
        "  print(ch, end=\" \")\n"
      ],
      "execution_count": 11,
      "outputs": [
        {
          "output_type": "stream",
          "text": [
            "I m r a n "
          ],
          "name": "stdout"
        }
      ]
    },
    {
      "cell_type": "code",
      "metadata": {
        "id": "3AAv6xAPA7a2",
        "outputId": "a470a231-f0b4-4f00-dc7a-935b8e337d1f",
        "colab": {
          "base_uri": "https://localhost:8080/",
          "height": 34
        }
      },
      "source": [
        "num = 0\n",
        "for n in range(11):\n",
        "  num = num+n\n",
        "print(num)"
      ],
      "execution_count": 12,
      "outputs": [
        {
          "output_type": "stream",
          "text": [
            "55\n"
          ],
          "name": "stdout"
        }
      ]
    },
    {
      "cell_type": "code",
      "metadata": {
        "id": "t0_vPl7AA-Ct",
        "outputId": "1beafc93-c518-44da-a096-c11ee262e7e6",
        "colab": {
          "base_uri": "https://localhost:8080/",
          "height": 187
        }
      },
      "source": [
        "num=9\n",
        "for n in range(1,11):\n",
        "  print(f\"{num} * {n} + {num*n}\")"
      ],
      "execution_count": 13,
      "outputs": [
        {
          "output_type": "stream",
          "text": [
            "9 * 1 + 9\n",
            "9 * 2 + 18\n",
            "9 * 3 + 27\n",
            "9 * 4 + 36\n",
            "9 * 5 + 45\n",
            "9 * 6 + 54\n",
            "9 * 7 + 63\n",
            "9 * 8 + 72\n",
            "9 * 9 + 81\n",
            "9 * 10 + 90\n"
          ],
          "name": "stdout"
        }
      ]
    },
    {
      "cell_type": "code",
      "metadata": {
        "id": "H3HEgLyQBG0I",
        "outputId": "c31ce7bb-9c9c-4c73-8cb8-9aaa7ef265e6",
        "colab": {
          "base_uri": "https://localhost:8080/",
          "height": 102
        }
      },
      "source": [
        "for n in range(5):\n",
        "  for o in range(n):\n",
        "    print(\"*\",end = \" \")\n",
        "  print()"
      ],
      "execution_count": 14,
      "outputs": [
        {
          "output_type": "stream",
          "text": [
            "\n",
            "* \n",
            "* * \n",
            "* * * \n",
            "* * * * \n"
          ],
          "name": "stdout"
        }
      ]
    }
  ]
}